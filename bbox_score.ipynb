{
 "cells": [
  {
   "cell_type": "code",
   "execution_count": 2,
   "metadata": {},
   "outputs": [],
   "source": [
    "import os\n",
    "import cv2\n",
    "import pandas as pd\n",
    "from matplotlib import pyplot as plt\n",
    "%matplotlib inline\n",
    "import numpy as np\n",
    "plt.rcParams['font.family'] ='Malgun Gothic'\n",
    "plt.rcParams['axes.unicode_minus'] =False\n",
    "from func import *\n",
    "import json"
   ]
  },
  {
   "cell_type": "markdown",
   "metadata": {},
   "source": [
    "1. json 파일에서 bbox별로 score, 크기 가져오기"
   ]
  },
  {
   "cell_type": "code",
   "execution_count": 16,
   "metadata": {},
   "outputs": [
    {
     "name": "stdout",
     "output_type": "stream",
     "text": [
      "개수: 104125\n"
     ]
    }
   ],
   "source": [
    "# JSON 파일 경로\n",
    "json_file_path = 'bbox_result.json'\n",
    "\n",
    "# JSON 파일 읽기\n",
    "with open(json_file_path, 'r') as f:\n",
    "    bbox_data = json.load(f)\n",
    "\n",
    "print(f'개수: {len(bbox_data)}')"
   ]
  },
  {
   "cell_type": "code",
   "execution_count": 17,
   "metadata": {},
   "outputs": [
    {
     "data": {
      "text/plain": [
       "dict_keys(['image_file', 'center', 'scale', 'rotation', 'bbox', 'bbox_score', 'dataset', 'joints_3d', 'joints_3d_visible', 'bbox_id'])"
      ]
     },
     "execution_count": 17,
     "metadata": {},
     "output_type": "execute_result"
    }
   ],
   "source": [
    "bbox_data[0].keys()"
   ]
  },
  {
   "cell_type": "code",
   "execution_count": 18,
   "metadata": {},
   "outputs": [
    {
     "data": {
      "text/html": [
       "<div>\n",
       "<style scoped>\n",
       "    .dataframe tbody tr th:only-of-type {\n",
       "        vertical-align: middle;\n",
       "    }\n",
       "\n",
       "    .dataframe tbody tr th {\n",
       "        vertical-align: top;\n",
       "    }\n",
       "\n",
       "    .dataframe thead th {\n",
       "        text-align: right;\n",
       "    }\n",
       "</style>\n",
       "<table border=\"1\" class=\"dataframe\">\n",
       "  <thead>\n",
       "    <tr style=\"text-align: right;\">\n",
       "      <th></th>\n",
       "      <th>image_file</th>\n",
       "      <th>bbox</th>\n",
       "      <th>bbox_score</th>\n",
       "      <th>bbox_id</th>\n",
       "    </tr>\n",
       "  </thead>\n",
       "  <tbody>\n",
       "    <tr>\n",
       "      <th>0</th>\n",
       "      <td>data/coco/val2017/000000532481.jpg</td>\n",
       "      <td>[249.8199079291458, 175.21093805640606, 74.004...</td>\n",
       "      <td>0.999274</td>\n",
       "      <td>0</td>\n",
       "    </tr>\n",
       "    <tr>\n",
       "      <th>1</th>\n",
       "      <td>data/coco/val2017/000000532481.jpg</td>\n",
       "      <td>[284.07836701140275, 370.43747059580454, 13.84...</td>\n",
       "      <td>0.983319</td>\n",
       "      <td>1</td>\n",
       "    </tr>\n",
       "    <tr>\n",
       "      <th>2</th>\n",
       "      <td>data/coco/val2017/000000532481.jpg</td>\n",
       "      <td>[244.05099093550018, 170.61324112294565, 74.56...</td>\n",
       "      <td>0.471152</td>\n",
       "      <td>2</td>\n",
       "    </tr>\n",
       "    <tr>\n",
       "      <th>3</th>\n",
       "      <td>data/coco/val2017/000000532481.jpg</td>\n",
       "      <td>[285.7852415208732, 370.21400193144893, 10.915...</td>\n",
       "      <td>0.427866</td>\n",
       "      <td>3</td>\n",
       "    </tr>\n",
       "    <tr>\n",
       "      <th>4</th>\n",
       "      <td>data/coco/val2017/000000532481.jpg</td>\n",
       "      <td>[254.66838783379924, 177.22587387050734, 65.52...</td>\n",
       "      <td>0.212189</td>\n",
       "      <td>4</td>\n",
       "    </tr>\n",
       "    <tr>\n",
       "      <th>...</th>\n",
       "      <td>...</td>\n",
       "      <td>...</td>\n",
       "      <td>...</td>\n",
       "      <td>...</td>\n",
       "    </tr>\n",
       "    <tr>\n",
       "      <th>104120</th>\n",
       "      <td>data/coco/val2017/000000179112.jpg</td>\n",
       "      <td>[25.86279031631016, 11.718955167445618, 324.48...</td>\n",
       "      <td>0.000218</td>\n",
       "      <td>104120</td>\n",
       "    </tr>\n",
       "    <tr>\n",
       "      <th>104121</th>\n",
       "      <td>data/coco/val2017/000000179112.jpg</td>\n",
       "      <td>[155.69763757619663, 195.84793595792362, 187.8...</td>\n",
       "      <td>0.000108</td>\n",
       "      <td>104121</td>\n",
       "    </tr>\n",
       "    <tr>\n",
       "      <th>104122</th>\n",
       "      <td>data/coco/val2017/000000179112.jpg</td>\n",
       "      <td>[25.7279295752435, 0.8558799166679145, 285.103...</td>\n",
       "      <td>0.000066</td>\n",
       "      <td>104122</td>\n",
       "    </tr>\n",
       "    <tr>\n",
       "      <th>104123</th>\n",
       "      <td>data/coco/val2017/000000311295.jpg</td>\n",
       "      <td>[227.37860456174386, 169.90725877096875, 5.060...</td>\n",
       "      <td>0.033784</td>\n",
       "      <td>104123</td>\n",
       "    </tr>\n",
       "    <tr>\n",
       "      <th>104124</th>\n",
       "      <td>data/coco/val2017/000000311295.jpg</td>\n",
       "      <td>[227.60681872729583, 168.9525167518578, 5.4106...</td>\n",
       "      <td>0.012817</td>\n",
       "      <td>104124</td>\n",
       "    </tr>\n",
       "  </tbody>\n",
       "</table>\n",
       "<p>104125 rows × 4 columns</p>\n",
       "</div>"
      ],
      "text/plain": [
       "                                image_file  \\\n",
       "0       data/coco/val2017/000000532481.jpg   \n",
       "1       data/coco/val2017/000000532481.jpg   \n",
       "2       data/coco/val2017/000000532481.jpg   \n",
       "3       data/coco/val2017/000000532481.jpg   \n",
       "4       data/coco/val2017/000000532481.jpg   \n",
       "...                                    ...   \n",
       "104120  data/coco/val2017/000000179112.jpg   \n",
       "104121  data/coco/val2017/000000179112.jpg   \n",
       "104122  data/coco/val2017/000000179112.jpg   \n",
       "104123  data/coco/val2017/000000311295.jpg   \n",
       "104124  data/coco/val2017/000000311295.jpg   \n",
       "\n",
       "                                                     bbox  bbox_score  bbox_id  \n",
       "0       [249.8199079291458, 175.21093805640606, 74.004...    0.999274        0  \n",
       "1       [284.07836701140275, 370.43747059580454, 13.84...    0.983319        1  \n",
       "2       [244.05099093550018, 170.61324112294565, 74.56...    0.471152        2  \n",
       "3       [285.7852415208732, 370.21400193144893, 10.915...    0.427866        3  \n",
       "4       [254.66838783379924, 177.22587387050734, 65.52...    0.212189        4  \n",
       "...                                                   ...         ...      ...  \n",
       "104120  [25.86279031631016, 11.718955167445618, 324.48...    0.000218   104120  \n",
       "104121  [155.69763757619663, 195.84793595792362, 187.8...    0.000108   104121  \n",
       "104122  [25.7279295752435, 0.8558799166679145, 285.103...    0.000066   104122  \n",
       "104123  [227.37860456174386, 169.90725877096875, 5.060...    0.033784   104123  \n",
       "104124  [227.60681872729583, 168.9525167518578, 5.4106...    0.012817   104124  \n",
       "\n",
       "[104125 rows x 4 columns]"
      ]
     },
     "execution_count": 18,
     "metadata": {},
     "output_type": "execute_result"
    }
   ],
   "source": [
    "bbox_df = pd.DataFrame(bbox_data)[['image_file', 'bbox', 'bbox_score','bbox_id']]\n",
    "bbox_df"
   ]
  },
  {
   "cell_type": "code",
   "execution_count": 19,
   "metadata": {},
   "outputs": [],
   "source": [
    "bbox_df['image_file'] = bbox_df['image_file'].str.replace('val2017/', '').str.replace('.jpg', '').astype(int)"
   ]
  },
  {
   "cell_type": "code",
   "execution_count": 20,
   "metadata": {},
   "outputs": [
    {
     "data": {
      "text/html": [
       "<div>\n",
       "<style scoped>\n",
       "    .dataframe tbody tr th:only-of-type {\n",
       "        vertical-align: middle;\n",
       "    }\n",
       "\n",
       "    .dataframe tbody tr th {\n",
       "        vertical-align: top;\n",
       "    }\n",
       "\n",
       "    .dataframe thead th {\n",
       "        text-align: right;\n",
       "    }\n",
       "</style>\n",
       "<table border=\"1\" class=\"dataframe\">\n",
       "  <thead>\n",
       "    <tr style=\"text-align: right;\">\n",
       "      <th></th>\n",
       "      <th>image_file</th>\n",
       "      <th>bbox</th>\n",
       "      <th>bbox_score</th>\n",
       "      <th>bbox_id</th>\n",
       "    </tr>\n",
       "  </thead>\n",
       "  <tbody>\n",
       "    <tr>\n",
       "      <th>0</th>\n",
       "      <td>532481</td>\n",
       "      <td>[249.8199079291458, 175.21093805640606, 74.004...</td>\n",
       "      <td>0.999274</td>\n",
       "      <td>0</td>\n",
       "    </tr>\n",
       "    <tr>\n",
       "      <th>1</th>\n",
       "      <td>532481</td>\n",
       "      <td>[284.07836701140275, 370.43747059580454, 13.84...</td>\n",
       "      <td>0.983319</td>\n",
       "      <td>1</td>\n",
       "    </tr>\n",
       "    <tr>\n",
       "      <th>2</th>\n",
       "      <td>532481</td>\n",
       "      <td>[244.05099093550018, 170.61324112294565, 74.56...</td>\n",
       "      <td>0.471152</td>\n",
       "      <td>2</td>\n",
       "    </tr>\n",
       "    <tr>\n",
       "      <th>3</th>\n",
       "      <td>532481</td>\n",
       "      <td>[285.7852415208732, 370.21400193144893, 10.915...</td>\n",
       "      <td>0.427866</td>\n",
       "      <td>3</td>\n",
       "    </tr>\n",
       "    <tr>\n",
       "      <th>4</th>\n",
       "      <td>532481</td>\n",
       "      <td>[254.66838783379924, 177.22587387050734, 65.52...</td>\n",
       "      <td>0.212189</td>\n",
       "      <td>4</td>\n",
       "    </tr>\n",
       "    <tr>\n",
       "      <th>...</th>\n",
       "      <td>...</td>\n",
       "      <td>...</td>\n",
       "      <td>...</td>\n",
       "      <td>...</td>\n",
       "    </tr>\n",
       "    <tr>\n",
       "      <th>104120</th>\n",
       "      <td>179112</td>\n",
       "      <td>[25.86279031631016, 11.718955167445618, 324.48...</td>\n",
       "      <td>0.000218</td>\n",
       "      <td>104120</td>\n",
       "    </tr>\n",
       "    <tr>\n",
       "      <th>104121</th>\n",
       "      <td>179112</td>\n",
       "      <td>[155.69763757619663, 195.84793595792362, 187.8...</td>\n",
       "      <td>0.000108</td>\n",
       "      <td>104121</td>\n",
       "    </tr>\n",
       "    <tr>\n",
       "      <th>104122</th>\n",
       "      <td>179112</td>\n",
       "      <td>[25.7279295752435, 0.8558799166679145, 285.103...</td>\n",
       "      <td>0.000066</td>\n",
       "      <td>104122</td>\n",
       "    </tr>\n",
       "    <tr>\n",
       "      <th>104123</th>\n",
       "      <td>311295</td>\n",
       "      <td>[227.37860456174386, 169.90725877096875, 5.060...</td>\n",
       "      <td>0.033784</td>\n",
       "      <td>104123</td>\n",
       "    </tr>\n",
       "    <tr>\n",
       "      <th>104124</th>\n",
       "      <td>311295</td>\n",
       "      <td>[227.60681872729583, 168.9525167518578, 5.4106...</td>\n",
       "      <td>0.012817</td>\n",
       "      <td>104124</td>\n",
       "    </tr>\n",
       "  </tbody>\n",
       "</table>\n",
       "<p>104125 rows × 4 columns</p>\n",
       "</div>"
      ],
      "text/plain": [
       "        image_file                                               bbox  \\\n",
       "0           532481  [249.8199079291458, 175.21093805640606, 74.004...   \n",
       "1           532481  [284.07836701140275, 370.43747059580454, 13.84...   \n",
       "2           532481  [244.05099093550018, 170.61324112294565, 74.56...   \n",
       "3           532481  [285.7852415208732, 370.21400193144893, 10.915...   \n",
       "4           532481  [254.66838783379924, 177.22587387050734, 65.52...   \n",
       "...            ...                                                ...   \n",
       "104120      179112  [25.86279031631016, 11.718955167445618, 324.48...   \n",
       "104121      179112  [155.69763757619663, 195.84793595792362, 187.8...   \n",
       "104122      179112  [25.7279295752435, 0.8558799166679145, 285.103...   \n",
       "104123      311295  [227.37860456174386, 169.90725877096875, 5.060...   \n",
       "104124      311295  [227.60681872729583, 168.9525167518578, 5.4106...   \n",
       "\n",
       "        bbox_score  bbox_id  \n",
       "0         0.999274        0  \n",
       "1         0.983319        1  \n",
       "2         0.471152        2  \n",
       "3         0.427866        3  \n",
       "4         0.212189        4  \n",
       "...            ...      ...  \n",
       "104120    0.000218   104120  \n",
       "104121    0.000108   104121  \n",
       "104122    0.000066   104122  \n",
       "104123    0.033784   104123  \n",
       "104124    0.012817   104124  \n",
       "\n",
       "[104125 rows x 4 columns]"
      ]
     },
     "execution_count": 20,
     "metadata": {},
     "output_type": "execute_result"
    }
   ],
   "source": [
    "bbox_df"
   ]
  },
  {
   "cell_type": "code",
   "execution_count": 21,
   "metadata": {},
   "outputs": [],
   "source": [
    "# bbox_df.to_csv(\"bbox_df.csv\",index=False)"
   ]
  },
  {
   "cell_type": "code",
   "execution_count": null,
   "metadata": {},
   "outputs": [],
   "source": [
    "bbox_df = pd.DataFrame(bbox_data)[['image_file', 'bbox', 'bbox_score','bbox_id']]\n",
    "bbox_df"
   ]
  },
  {
   "cell_type": "code",
   "execution_count": 3,
   "metadata": {},
   "outputs": [
    {
     "name": "stdout",
     "output_type": "stream",
     "text": [
      "개수: 3893\n"
     ]
    }
   ],
   "source": [
    "# JSON 파일 경로\n",
    "json_file_path = 'kpts_result.json'\n",
    "\n",
    "# JSON 파일 읽기\n",
    "with open(json_file_path, 'r') as f:\n",
    "    kpts_data = json.load(f)\n",
    "\n",
    "print(f'개수: {len(kpts_data)}')"
   ]
  },
  {
   "cell_type": "code",
   "execution_count": 8,
   "metadata": {},
   "outputs": [],
   "source": [
    "df_list = []\n",
    "for image_id, image_data in kpts_data.items():\n",
    "    for data in image_data:\n",
    "        df_list.append(pd.DataFrame({\n",
    "            \"image_id\": [data[\"image_id\"]],\n",
    "            \"bbox_id\": [data[\"bbox_id\"]],\n",
    "            \"area\": [data[\"area\"]],\n",
    "            \"score\": [data[\"score\"]],\n",
    "            \"keypoints\": [data[\"keypoints\"]],\n",
    "            \"center\": [data[\"center\"]],\n",
    "            \"scale\": [data[\"scale\"]],\n",
    "        }))\n",
    "\n",
    "# DataFrame을 합치기\n",
    "kpts_df = pd.concat(df_list, ignore_index=True)"
   ]
  },
  {
   "cell_type": "code",
   "execution_count": 9,
   "metadata": {},
   "outputs": [
    {
     "data": {
      "text/plain": [
       "Index(['image_id', 'bbox_id', 'area', 'score', 'keypoints', 'center', 'scale'], dtype='object')"
      ]
     },
     "execution_count": 9,
     "metadata": {},
     "output_type": "execute_result"
    }
   ],
   "source": [
    "kpts_df.columns"
   ]
  },
  {
   "cell_type": "code",
   "execution_count": 10,
   "metadata": {},
   "outputs": [],
   "source": [
    "kpts_df = kpts_df[['image_id', 'area','score']]"
   ]
  },
  {
   "cell_type": "code",
   "execution_count": 12,
   "metadata": {},
   "outputs": [],
   "source": [
    "# kpts_df.to_csv(\"kpt_df.csv\", index=False)"
   ]
  },
  {
   "cell_type": "code",
   "execution_count": 72,
   "metadata": {},
   "outputs": [],
   "source": [
    "bbox_df[\"width\"] = bbox_df[\"bbox\"].apply(lambda bbox: bbox[2])\n",
    "bbox_df[\"height\"] = bbox_df[\"bbox\"].apply(lambda bbox: bbox[3])\n",
    "bbox_df[\"size\"] = bbox_df[\"width\"]*bbox_df[\"height\"]"
   ]
  }
 ],
 "metadata": {
  "kernelspec": {
   "display_name": "Python 3.9.17 ('tf39')",
   "language": "python",
   "name": "python3"
  },
  "language_info": {
   "codemirror_mode": {
    "name": "ipython",
    "version": 3
   },
   "file_extension": ".py",
   "mimetype": "text/x-python",
   "name": "python",
   "nbconvert_exporter": "python",
   "pygments_lexer": "ipython3",
   "version": "3.9.17"
  },
  "orig_nbformat": 4,
  "vscode": {
   "interpreter": {
    "hash": "32bdad3d37d800a9655be53f0fbc13d289841a4cc4c6d89850f999f51bfac069"
   }
  }
 },
 "nbformat": 4,
 "nbformat_minor": 2
}
