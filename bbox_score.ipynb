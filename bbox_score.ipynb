{
 "cells": [
  {
   "cell_type": "code",
   "execution_count": 4,
   "metadata": {},
   "outputs": [],
   "source": [
    "import os\n",
    "import cv2\n",
    "import pandas as pd\n",
    "from matplotlib import pyplot as plt\n",
    "%matplotlib inline\n",
    "import numpy as np\n",
    "plt.rcParams['font.family'] ='Malgun Gothic'\n",
    "plt.rcParams['axes.unicode_minus'] =False\n",
    "from func import *"
   ]
  },
  {
   "cell_type": "markdown",
   "metadata": {},
   "source": [
    "1. json 파일에서 bbox별로 score, 크기 가져오기"
   ]
  },
  {
   "cell_type": "code",
   "execution_count": 5,
   "metadata": {},
   "outputs": [
    {
     "name": "stdout",
     "output_type": "stream",
     "text": [
      "개수: 104125\n"
     ]
    }
   ],
   "source": [
    "import json\n",
    "\n",
    "# JSON 파일 경로\n",
    "json_file_path = 'bbox_result.json'\n",
    "\n",
    "# JSON 파일 읽기\n",
    "with open(json_file_path, 'r') as f:\n",
    "    bbox_data = json.load(f)\n",
    "\n",
    "print(f'개수: {len(bbox_data)}')"
   ]
  },
  {
   "cell_type": "code",
   "execution_count": 9,
   "metadata": {},
   "outputs": [
    {
     "data": {
      "text/plain": [
       "dict_keys(['image_file', 'center', 'scale', 'rotation', 'bbox', 'bbox_score', 'dataset', 'joints_3d', 'joints_3d_visible', 'bbox_id'])"
      ]
     },
     "execution_count": 9,
     "metadata": {},
     "output_type": "execute_result"
    }
   ],
   "source": [
    "bbox_data[0].keys()"
   ]
  },
  {
   "cell_type": "code",
   "execution_count": 30,
   "metadata": {},
   "outputs": [
    {
     "data": {
      "text/html": [
       "<div>\n",
       "<style scoped>\n",
       "    .dataframe tbody tr th:only-of-type {\n",
       "        vertical-align: middle;\n",
       "    }\n",
       "\n",
       "    .dataframe tbody tr th {\n",
       "        vertical-align: top;\n",
       "    }\n",
       "\n",
       "    .dataframe thead th {\n",
       "        text-align: right;\n",
       "    }\n",
       "</style>\n",
       "<table border=\"1\" class=\"dataframe\">\n",
       "  <thead>\n",
       "    <tr style=\"text-align: right;\">\n",
       "      <th></th>\n",
       "      <th>image_file</th>\n",
       "      <th>bbox</th>\n",
       "      <th>scale</th>\n",
       "      <th>bbox_score</th>\n",
       "      <th>bbox_id</th>\n",
       "    </tr>\n",
       "  </thead>\n",
       "  <tbody>\n",
       "    <tr>\n",
       "      <th>0</th>\n",
       "      <td>data/coco/val2017/000000532481.jpg</td>\n",
       "      <td>[249.8199079291458, 175.21093805640606, 74.004...</td>\n",
       "      <td>{'__ndarray__': [0.46252620220184326, 0.616701...</td>\n",
       "      <td>0.999274</td>\n",
       "      <td>0</td>\n",
       "    </tr>\n",
       "    <tr>\n",
       "      <th>1</th>\n",
       "      <td>data/coco/val2017/000000532481.jpg</td>\n",
       "      <td>[284.07836701140275, 370.43747059580454, 13.84...</td>\n",
       "      <td>{'__ndarray__': [0.08652686327695847, 0.115369...</td>\n",
       "      <td>0.983319</td>\n",
       "      <td>1</td>\n",
       "    </tr>\n",
       "    <tr>\n",
       "      <th>2</th>\n",
       "      <td>data/coco/val2017/000000532481.jpg</td>\n",
       "      <td>[244.05099093550018, 170.61324112294565, 74.56...</td>\n",
       "      <td>{'__ndarray__': [0.4660238027572632, 0.6213650...</td>\n",
       "      <td>0.471152</td>\n",
       "      <td>2</td>\n",
       "    </tr>\n",
       "    <tr>\n",
       "      <th>3</th>\n",
       "      <td>data/coco/val2017/000000532481.jpg</td>\n",
       "      <td>[285.7852415208732, 370.21400193144893, 10.915...</td>\n",
       "      <td>{'__ndarray__': [0.06821896135807037, 0.090958...</td>\n",
       "      <td>0.427866</td>\n",
       "      <td>3</td>\n",
       "    </tr>\n",
       "    <tr>\n",
       "      <th>4</th>\n",
       "      <td>data/coco/val2017/000000532481.jpg</td>\n",
       "      <td>[254.66838783379924, 177.22587387050734, 65.52...</td>\n",
       "      <td>{'__ndarray__': [0.4095565974712372, 0.5460754...</td>\n",
       "      <td>0.212189</td>\n",
       "      <td>4</td>\n",
       "    </tr>\n",
       "    <tr>\n",
       "      <th>...</th>\n",
       "      <td>...</td>\n",
       "      <td>...</td>\n",
       "      <td>...</td>\n",
       "      <td>...</td>\n",
       "      <td>...</td>\n",
       "    </tr>\n",
       "    <tr>\n",
       "      <th>104120</th>\n",
       "      <td>data/coco/val2017/000000179112.jpg</td>\n",
       "      <td>[25.86279031631016, 11.718955167445618, 324.48...</td>\n",
       "      <td>{'__ndarray__': [2.028031587600708, 2.70404219...</td>\n",
       "      <td>0.000218</td>\n",
       "      <td>104120</td>\n",
       "    </tr>\n",
       "    <tr>\n",
       "      <th>104121</th>\n",
       "      <td>data/coco/val2017/000000179112.jpg</td>\n",
       "      <td>[155.69763757619663, 195.84793595792362, 187.8...</td>\n",
       "      <td>{'__ndarray__': [1.1741750240325928, 1.5655666...</td>\n",
       "      <td>0.000108</td>\n",
       "      <td>104121</td>\n",
       "    </tr>\n",
       "    <tr>\n",
       "      <th>104122</th>\n",
       "      <td>data/coco/val2017/000000179112.jpg</td>\n",
       "      <td>[25.7279295752435, 0.8558799166679145, 285.103...</td>\n",
       "      <td>{'__ndarray__': [1.7818962335586548, 2.3758616...</td>\n",
       "      <td>0.000066</td>\n",
       "      <td>104122</td>\n",
       "    </tr>\n",
       "    <tr>\n",
       "      <th>104123</th>\n",
       "      <td>data/coco/val2017/000000311295.jpg</td>\n",
       "      <td>[227.37860456174386, 169.90725877096875, 5.060...</td>\n",
       "      <td>{'__ndarray__': [0.034554000943899155, 0.04607...</td>\n",
       "      <td>0.033784</td>\n",
       "      <td>104123</td>\n",
       "    </tr>\n",
       "    <tr>\n",
       "      <th>104124</th>\n",
       "      <td>data/coco/val2017/000000311295.jpg</td>\n",
       "      <td>[227.60681872729583, 168.9525167518578, 5.4106...</td>\n",
       "      <td>{'__ndarray__': [0.033816419541835785, 0.04508...</td>\n",
       "      <td>0.012817</td>\n",
       "      <td>104124</td>\n",
       "    </tr>\n",
       "  </tbody>\n",
       "</table>\n",
       "<p>104125 rows × 5 columns</p>\n",
       "</div>"
      ],
      "text/plain": [
       "                                image_file  \\\n",
       "0       data/coco/val2017/000000532481.jpg   \n",
       "1       data/coco/val2017/000000532481.jpg   \n",
       "2       data/coco/val2017/000000532481.jpg   \n",
       "3       data/coco/val2017/000000532481.jpg   \n",
       "4       data/coco/val2017/000000532481.jpg   \n",
       "...                                    ...   \n",
       "104120  data/coco/val2017/000000179112.jpg   \n",
       "104121  data/coco/val2017/000000179112.jpg   \n",
       "104122  data/coco/val2017/000000179112.jpg   \n",
       "104123  data/coco/val2017/000000311295.jpg   \n",
       "104124  data/coco/val2017/000000311295.jpg   \n",
       "\n",
       "                                                     bbox  \\\n",
       "0       [249.8199079291458, 175.21093805640606, 74.004...   \n",
       "1       [284.07836701140275, 370.43747059580454, 13.84...   \n",
       "2       [244.05099093550018, 170.61324112294565, 74.56...   \n",
       "3       [285.7852415208732, 370.21400193144893, 10.915...   \n",
       "4       [254.66838783379924, 177.22587387050734, 65.52...   \n",
       "...                                                   ...   \n",
       "104120  [25.86279031631016, 11.718955167445618, 324.48...   \n",
       "104121  [155.69763757619663, 195.84793595792362, 187.8...   \n",
       "104122  [25.7279295752435, 0.8558799166679145, 285.103...   \n",
       "104123  [227.37860456174386, 169.90725877096875, 5.060...   \n",
       "104124  [227.60681872729583, 168.9525167518578, 5.4106...   \n",
       "\n",
       "                                                    scale  bbox_score  bbox_id  \n",
       "0       {'__ndarray__': [0.46252620220184326, 0.616701...    0.999274        0  \n",
       "1       {'__ndarray__': [0.08652686327695847, 0.115369...    0.983319        1  \n",
       "2       {'__ndarray__': [0.4660238027572632, 0.6213650...    0.471152        2  \n",
       "3       {'__ndarray__': [0.06821896135807037, 0.090958...    0.427866        3  \n",
       "4       {'__ndarray__': [0.4095565974712372, 0.5460754...    0.212189        4  \n",
       "...                                                   ...         ...      ...  \n",
       "104120  {'__ndarray__': [2.028031587600708, 2.70404219...    0.000218   104120  \n",
       "104121  {'__ndarray__': [1.1741750240325928, 1.5655666...    0.000108   104121  \n",
       "104122  {'__ndarray__': [1.7818962335586548, 2.3758616...    0.000066   104122  \n",
       "104123  {'__ndarray__': [0.034554000943899155, 0.04607...    0.033784   104123  \n",
       "104124  {'__ndarray__': [0.033816419541835785, 0.04508...    0.012817   104124  \n",
       "\n",
       "[104125 rows x 5 columns]"
      ]
     },
     "execution_count": 30,
     "metadata": {},
     "output_type": "execute_result"
    }
   ],
   "source": [
    "bbox_df = pd.DataFrame(bbox_data)[['image_file', 'bbox', 'scale','bbox_score','bbox_id']]\n",
    "bbox_df"
   ]
  },
  {
   "cell_type": "code",
   "execution_count": 41,
   "metadata": {},
   "outputs": [],
   "source": [
    "bbox_df['image_file'] = bbox_df['image_file'].str.replace('data/coco/val2017/', '').str.replace('.jpg', '').astype(int)"
   ]
  },
  {
   "cell_type": "code",
   "execution_count": 47,
   "metadata": {},
   "outputs": [],
   "source": [
    "def _sort_and_unique_bboxes(kpts, key='bbox_id'):\n",
    "        \"\"\"sort kpts and remove the repeated ones.\"\"\"\n",
    "        for img_id, persons in kpts.items():\n",
    "            num = len(persons)\n",
    "            kpts[img_id] = sorted(kpts[img_id], key=lambda x: x[key])\n",
    "            for i in range(num - 1, 0, -1):\n",
    "                if kpts[img_id][i][key] == kpts[img_id][i - 1][key]:\n",
    "                    del kpts[img_id][i]\n",
    "\n",
    "        return kpts"
   ]
  },
  {
   "cell_type": "code",
   "execution_count": 43,
   "metadata": {},
   "outputs": [],
   "source": [
    "# bbox_df.to_csv(\"bbox_df.csv\",index=False)"
   ]
  },
  {
   "cell_type": "code",
   "execution_count": 29,
   "metadata": {},
   "outputs": [
    {
     "data": {
      "text/plain": [
       "{'__ndarray__': [0.46252620220184326, 0.616701602935791],\n",
       " 'dtype': 'float32',\n",
       " 'shape': [2]}"
      ]
     },
     "execution_count": 29,
     "metadata": {},
     "output_type": "execute_result"
    }
   ],
   "source": [
    "pd.DataFrame(bbox_data).loc[0,'scale']"
   ]
  },
  {
   "cell_type": "code",
   "execution_count": 32,
   "metadata": {},
   "outputs": [
    {
     "name": "stdout",
     "output_type": "stream",
     "text": [
      "개수: 73304\n"
     ]
    }
   ],
   "source": [
    "# JSON 파일 경로\n",
    "json_file_path = 'result_keypoints_small_base.json'\n",
    "\n",
    "# JSON 파일 읽기\n",
    "with open(json_file_path, 'r') as f:\n",
    "    keypoints_data = json.load(f)\n",
    "\n",
    "print(f'개수: {len(keypoints_data)}')"
   ]
  },
  {
   "cell_type": "code",
   "execution_count": 14,
   "metadata": {},
   "outputs": [
    {
     "data": {
      "text/plain": [
       "dict_keys(['category_id', 'center', 'image_id', 'keypoints', 'scale', 'score'])"
      ]
     },
     "execution_count": 14,
     "metadata": {},
     "output_type": "execute_result"
    }
   ],
   "source": [
    "keypoints_data[0].keys()"
   ]
  },
  {
   "cell_type": "code",
   "execution_count": 36,
   "metadata": {},
   "outputs": [
    {
     "data": {
      "text/plain": [
       "Index(['category_id', 'center', 'image_id', 'keypoints', 'scale', 'score'], dtype='object')"
      ]
     },
     "execution_count": 36,
     "metadata": {},
     "output_type": "execute_result"
    }
   ],
   "source": [
    "pd.DataFrame(keypoints_data).columns"
   ]
  },
  {
   "cell_type": "code",
   "execution_count": null,
   "metadata": {},
   "outputs": [],
   "source": [
    "pd.DataFrame(keypoints_data)[['image_id', 'keypoints','sca']]"
   ]
  },
  {
   "cell_type": "code",
   "execution_count": null,
   "metadata": {},
   "outputs": [],
   "source": [
    "# 이미지 읽기\n",
    "image = cv2.imread('val2017/000000532481.jpg', cv2.IMREAD_GRAYSCALE)\n",
    "print(\"shape\", image.shape)\n",
    "plt.axis(False)\n",
    "plt.imshow(image, cmap=\"gray\")"
   ]
  }
 ],
 "metadata": {
  "kernelspec": {
   "display_name": "Python 3.9.17 ('tf39')",
   "language": "python",
   "name": "python3"
  },
  "language_info": {
   "codemirror_mode": {
    "name": "ipython",
    "version": 3
   },
   "file_extension": ".py",
   "mimetype": "text/x-python",
   "name": "python",
   "nbconvert_exporter": "python",
   "pygments_lexer": "ipython3",
   "version": "3.9.17"
  },
  "orig_nbformat": 4,
  "vscode": {
   "interpreter": {
    "hash": "32bdad3d37d800a9655be53f0fbc13d289841a4cc4c6d89850f999f51bfac069"
   }
  }
 },
 "nbformat": 4,
 "nbformat_minor": 2
}
