{
 "cells": [
  {
   "cell_type": "code",
   "execution_count": null,
   "metadata": {},
   "outputs": [],
   "source": [
    "import cv2\n",
    "import os\n",
    "from matplotlib import pyplot as plt\n",
    "%matplotlib inline\n",
    "import numpy as np\n",
    "plt.rcParams['font.family'] ='Malgun Gothic'\n",
    "plt.rcParams['axes.unicode_minus'] =False"
   ]
  },
  {
   "cell_type": "code",
   "execution_count": null,
   "metadata": {},
   "outputs": [],
   "source": [
    "# 이미지 파일들이 저장된 폴더 경로 설정\n",
    "folder_path = \"val2017/\"\n",
    "\n",
    "# 폴더 내의 모든 파일 목록 가져오기\n",
    "file_list = os.listdir(folder_path)\n",
    "\n",
    "# 이미지 파일 확장자 (예: .jpg, .png)를 확인하여 이미지 파일만 선택\n",
    "image_extensions = [\".jpg\", \".jpeg\", \".png\", \".bmp\", \".gif\"]\n",
    "\n",
    "image_files = [f for f in file_list if os.path.splitext(f)[-1].lower() in image_extensions]"
   ]
  },
  {
   "cell_type": "code",
   "execution_count": null,
   "metadata": {},
   "outputs": [],
   "source": [
    "# # 이미지 불러오기 확인\n",
    "# image_file = image_files[0]\n",
    "# image_path = os.path.join(folder_path, image_file)\n",
    "# img = cv2.imread(image_path)\n",
    "# img = cv2.cvtColor(img, cv2.COLOR_BGR2RGB)\n",
    "\n",
    "# plt.imshow(img)"
   ]
  },
  {
   "cell_type": "markdown",
   "metadata": {},
   "source": [
    "### case 1: 너무 밝거나 어두운 이미지"
   ]
  },
  {
   "cell_type": "code",
   "execution_count": null,
   "metadata": {},
   "outputs": [],
   "source": [
    "# 전체 이미지의 밝기 평균과 표준편차 계산\n",
    "average = {}\n",
    "sd = {}\n",
    "\n",
    "for image_file in image_files:\n",
    "    image_path = os.path.join(folder_path, image_file)\n",
    "    \n",
    "    image = cv2.imread(image_path)\n",
    "    average[image_path] = np.mean(image)\n",
    "    sd[image_path] = np.std(image)\n",
    "\n",
    "average = sorted(average.items(), key= lambda item:item[1])\n",
    "sd = sorted(sd.items(), key= lambda item:item[1])"
   ]
  },
  {
   "cell_type": "code",
   "execution_count": null,
   "metadata": {},
   "outputs": [],
   "source": [
    "# 이미지 평균 밝기 통계량\n",
    "print(\"전체 평균\", np.mean(list(dict(average).values())))\n",
    "print(np.percentile(list(dict(average).values()), [0, 25, 50, 75, 100])) # 사분위수"
   ]
  },
  {
   "cell_type": "code",
   "execution_count": null,
   "metadata": {},
   "outputs": [],
   "source": [
    "# 전체 이미지의 평균 밝기\n",
    "plt.hist(list(dict(average).values()), bins=30, color='blue', alpha=0.7)\n",
    "plt.xlabel('average_values')\n",
    "plt.title('이미지의 평균 밝기 분포')\n",
    "plt.grid(True)\n",
    "plt.show()"
   ]
  },
  {
   "cell_type": "code",
   "execution_count": null,
   "metadata": {},
   "outputs": [],
   "source": [
    "dark_images = average\n",
    "bright_images = sorted(dict(average).items(), key=lambda x:x[1], reverse=True)"
   ]
  },
  {
   "cell_type": "code",
   "execution_count": null,
   "metadata": {},
   "outputs": [],
   "source": [
    "# 밝은 이미지 열어보기\n",
    "\n",
    "n = 10 # 상위 몇 개 가져올지 지정\n",
    "option = bright_images # dark_images/bright_images 지정\n",
    "\n",
    "for image_path in dict(option[:n]):\n",
    "    image = cv2.imread(image_path)\n",
    "    image = cv2.cvtColor(image, cv2.COLOR_BGR2GRAY)    \n",
    "    # standard_deviation = round(np.std(image), 3)\n",
    "    standard_deviation = round(dict(sd)[image_path],3)\n",
    "    avg = round(dict(average)[image_path],3)\n",
    "    txt = \"average : \"+str(avg)+\" sd : \"+str(standard_deviation)\n",
    "    hist, bins = np.histogram(image.ravel(), 256, [0, 256])    \n",
    "\n",
    "    plt.figure(figsize=(6, 3))\n",
    "    plt.subplot(1, 2, 1)\n",
    "    plt.axis('off')\n",
    "    plt.imshow(image, cmap='gray')\n",
    "    plt.subplot(1, 2, 2)\n",
    "    plt.hist(image.ravel(), 256, [0, 256], color='r')\n",
    "    plt.xlabel(txt)\n",
    "\n",
    "    plt.show()\n",
    "# cv2.destroyAllWindows()"
   ]
  },
  {
   "cell_type": "code",
   "execution_count": null,
   "metadata": {},
   "outputs": [],
   "source": [
    "# 밝기순 정렬된 이미지 표준편차 조회\n",
    "for i in bright_images[:20]:\n",
    "    print(round(dict(sd)[i[0]],3))"
   ]
  },
  {
   "cell_type": "markdown",
   "metadata": {},
   "source": [
    "### 밝은 이미지 열어보기"
   ]
  },
  {
   "cell_type": "code",
   "execution_count": null,
   "metadata": {},
   "outputs": [],
   "source": [
    "# 밝은 이미지 열어보기\n",
    "\n",
    "n = 20 # 상위 몇 개 가져올지 지정\n",
    "option = bright_images # dark_images/bright_images 지정\n",
    "imglist_avg = []\n",
    "imglist_sd = []\n",
    "\n",
    "for image_path in dict(option[:n]):\n",
    "    image = cv2.imread(image_path)\n",
    "    image = cv2.cvtColor(image, cv2.COLOR_BGR2GRAY) \n",
    "\n",
    "    plt.figure(figsize=(6, 3))\n",
    "    plt.imshow(image, cmap='gray')\n",
    "    image_sd = dict(sd)[image_path]\n",
    "    image_avg = dict(average)[image_path]\n",
    "    imglist_sd.append(image_sd)\n",
    "    imglist_avg.append(image_avg)\n",
    "    txt = \"sd: \" + str(round(image_sd, 3)) + \" average: \" + str(round(image_avg, 3)) \n",
    "    plt.title(txt)\n",
    "    plt.axis('off')\n",
    "\n",
    "    plt.show()\n",
    "\n",
    "# 밝은 이미지 n개의 평균 밝기 및 표준편차\n",
    "plt.figure(figsize=(12, 4))\n",
    "plt.subplot(1, 3, 1)\n",
    "plt.hist(imglist_avg, bins=20, color='blue', alpha=0.7)\n",
    "plt.xlabel('average_values')\n",
    "plt.xlim(0, 256)\n",
    "plt.title('밝은 이미지 250개의 평균밝기 분포')\n",
    "plt.grid(True)\n",
    "\n",
    "plt.subplot(1, 3, 2)\n",
    "plt.hist(imglist_sd, bins=20, color='blue', alpha=0.7)\n",
    "plt.xlabel('sd_values')\n",
    "plt.title('밝은 이미지 250개의 표준편차 분포')\n",
    "plt.xlim(0, 115)\n",
    "plt.grid(True)\n",
    "\n",
    "plt.subplot(1, 3, 3)\n",
    "plt.hist(list(dict(sd).values()), bins=20, color='blue', alpha=0.7)\n",
    "plt.xlabel('sd_values')\n",
    "plt.title('전체 이미지의 밝기 표준편차 분포')\n",
    "plt.grid(True)\n",
    "\n",
    "plt.show()"
   ]
  },
  {
   "cell_type": "code",
   "execution_count": null,
   "metadata": {},
   "outputs": [],
   "source": [
    "plt.figure(figsize=(2,4))\n",
    "plt.boxplot(list(dict(sd).values()))\n",
    "plt.xlabel('5000개')\n",
    "# plt.title('전체 이미지의 밝기 표준편차 분포')\n",
    "plt.ylim(0,115)\n",
    "plt.grid(False)\n",
    "\n",
    "plt.show()"
   ]
  },
  {
   "cell_type": "code",
   "execution_count": null,
   "metadata": {},
   "outputs": [],
   "source": [
    "# sd 분포\n",
    "n = 250 # 상위 몇 개 가져올지 지정\n",
    "option = bright_images # dark_images/bright_images 지정\n",
    "imglist_avg = []\n",
    "imglist_sd = []\n",
    "\n",
    "for image_path in dict(option[:n]):\n",
    "    image_sd = dict(sd)[image_path]\n",
    "    image_avg = dict(average)[image_path]\n",
    "    imglist_sd.append(image_sd)\n",
    "    imglist_avg.append(image_avg)\n",
    "    txt = \"sd: \" + str(round(image_sd, 3)) + \" average: \" + str(round(image_avg, 3)) \n",
    "\n",
    "plt.figure(figsize=(2, 4))\n",
    "plt.boxplot(imglist_sd)\n",
    "plt.xlabel(\"250개\")\n",
    "plt.ylim(0,115)"
   ]
  },
  {
   "cell_type": "markdown",
   "metadata": {},
   "source": [
    "### 어두운 이미지 열어보기"
   ]
  },
  {
   "cell_type": "code",
   "execution_count": null,
   "metadata": {},
   "outputs": [],
   "source": [
    "# 어두운 이미지 열어보기\n",
    "\n",
    "n = 10 # 상위 몇 개 가져올지 지정\n",
    "option = dark_images # dark_images/bright_images 지정\n",
    "\n",
    "for image_path in dict(option[:n]):\n",
    "    image = cv2.imread(image_path)\n",
    "    image = cv2.cvtColor(image, cv2.COLOR_BGR2GRAY)    \n",
    "    # standard_deviation = round(np.std(image), 3)\n",
    "    standard_deviation = round(dict(sd)[image_path],3)\n",
    "    avg = round(dict(average)[image_path],3)\n",
    "    txt = \"average : \"+str(avg)+\" sd : \"+str(standard_deviation)\n",
    "    hist, bins = np.histogram(image.ravel(), 256, [0, 256])    \n",
    "\n",
    "    plt.figure(figsize=(6, 3))\n",
    "    plt.subplot(1, 2, 1)\n",
    "    plt.axis('off')\n",
    "    plt.imshow(image, cmap='gray')\n",
    "    plt.subplot(1, 2, 2)\n",
    "    plt.hist(image.ravel(), 256, [0, 256], color='r')\n",
    "    plt.xlabel(txt)\n",
    "\n",
    "    plt.show()\n",
    "# cv2.destroyAllWindows()"
   ]
  },
  {
   "cell_type": "code",
   "execution_count": null,
   "metadata": {},
   "outputs": [],
   "source": [
    "# 어두운 이미지 열어보기\n",
    "\n",
    "n = 50 # 상위 몇 개 가져올지 지정\n",
    "option = dark_images # dark_images/bright_images 지정\n",
    "imglist_avg = []\n",
    "imglist_sd = []\n",
    "\n",
    "for image_path in dict(option[:n]):\n",
    "    image = cv2.imread(image_path)\n",
    "    image = cv2.cvtColor(image, cv2.COLOR_BGR2GRAY) \n",
    "\n",
    "    plt.figure(figsize=(6, 3))\n",
    "    plt.imshow(image, cmap='gray')\n",
    "    image_sd = dict(sd)[image_path]\n",
    "    image_avg = dict(average)[image_path]\n",
    "    imglist_sd.append(image_sd)\n",
    "    imglist_avg.append(image_avg)\n",
    "    txt = \"sd: \" + str(round(image_sd, 3)) + \" average: \" + str(round(image_avg, 3)) \n",
    "    plt.title(txt)\n",
    "    plt.axis('off')\n",
    "\n",
    "    plt.show()\n",
    "\n",
    "# 어두운 이미지 n개의 평균 밝기 및 표준편차\n",
    "plt.figure(figsize=(12, 4))\n",
    "plt.subplot(1, 3, 1)\n",
    "plt.hist(imglist_avg, bins=20, color='blue', alpha=0.7)\n",
    "plt.xlabel('average_values')\n",
    "plt.xlim(0, 256)\n",
    "plt.title('어두운 이미지 50개의 평균밝기 분포')\n",
    "plt.grid(True)\n",
    "\n",
    "plt.subplot(1, 3, 2)\n",
    "plt.hist(imglist_sd, bins=20, color='blue', alpha=0.7)\n",
    "plt.xlim(0, 115)\n",
    "plt.xlabel('sd_values')\n",
    "plt.title('어두운 이미지 50개의 표준편차 분포')\n",
    "plt.grid(True)\n",
    "\n",
    "plt.subplot(1, 3, 3)\n",
    "plt.hist(list(dict(sd).values()), bins=20, color='blue', alpha=0.7)\n",
    "plt.xlabel('sd_values')\n",
    "plt.title('전체 이미지의 밝기 표준편차 분포')\n",
    "plt.grid(True)\n",
    "\n",
    "plt.show()"
   ]
  },
  {
   "cell_type": "code",
   "execution_count": null,
   "metadata": {},
   "outputs": [],
   "source": [
    "# sd 분포\n",
    "n = 5000 # 상위 몇 개 가져올지 지정\n",
    "option = dark_images # dark_images/bright_images 지정\n",
    "imglist_avg = []\n",
    "imglist_sd = []\n",
    "\n",
    "for image_path in dict(option[:n]):\n",
    "    image_sd = dict(sd)[image_path]\n",
    "    image_avg = dict(average)[image_path]\n",
    "    imglist_sd.append(image_sd)\n",
    "    imglist_avg.append(image_avg)\n",
    "    txt = \"sd: \" + str(round(image_sd, 3)) + \" average: \" + str(round(image_avg, 3)) \n",
    "\n",
    "plt.figure(figsize=(2, 4))\n",
    "plt.boxplot(imglist_sd)\n",
    "plt.xlabel(\"5000개\")\n",
    "plt.ylim(0,115)"
   ]
  },
  {
   "cell_type": "code",
   "execution_count": null,
   "metadata": {},
   "outputs": [],
   "source": [
    "sd = dict(sd)\n",
    "average = dict(average)"
   ]
  },
  {
   "cell_type": "code",
   "execution_count": null,
   "metadata": {},
   "outputs": [],
   "source": [
    "# 사분위수\n",
    "np.percentile(list(sd.values()), [0, 25, 50, 75, 100])"
   ]
  },
  {
   "cell_type": "code",
   "execution_count": null,
   "metadata": {},
   "outputs": [],
   "source": [
    "plt.hist(list(sd.values()), bins=20, color='blue', alpha=0.7)\n",
    "plt.xlabel('sd_values')\n",
    "plt.title('이미지의 밝기 표준편차 분포')\n",
    "plt.grid(True)\n",
    "plt.show()"
   ]
  },
  {
   "cell_type": "code",
   "execution_count": null,
   "metadata": {},
   "outputs": [],
   "source": [
    "# 밝기 상위 p프로의 표준편차 분포\n",
    "p = 0.1 # 5000개 중 10프로 -> 500개\n",
    "option = bright_images # dark_images/bright_images 지정\n",
    "\n",
    "top_lst = list(dict(option[:int(len(bright_images)*p)]).keys())\n",
    "result_dict = {} # 밝기 상위 p프로의 표준편차를 저장하는 딕셔너리\n",
    "\n",
    "for value in top_lst:\n",
    "    result_dict[value] = sd[value]\n",
    "\n",
    "# 히스토그램 그리기\n",
    "plt.hist(result_dict.values(), bins=20, color='blue', alpha=0.7)\n",
    "plt.xlabel('sd_values')\n",
    "plt.title('밝기 상위 1프로의 표준편차 분포')\n",
    "plt.show()"
   ]
  },
  {
   "cell_type": "code",
   "execution_count": null,
   "metadata": {},
   "outputs": [],
   "source": [
    "# 밝기 상위 p프로의 표준편차 분포\n",
    "p = 0.01 # 5000개 중 1프로 -> 50개\n",
    "option = bright_images # dark_images/bright_images 지정\n",
    "\n",
    "top_lst = list(dict(option[:int(len(bright_images)*p)]).keys())\n",
    "result_dict = {} # 밝기 상위 p프로의 표준편차를 저장하는 딕셔너리\n",
    "\n",
    "for value in top_lst:\n",
    "    result_dict[value] = sd[value]\n",
    "\n",
    "# 히스토그램 그리기\n",
    "plt.hist(result_dict.values(), bins=20, color='blue', alpha=0.7)\n",
    "plt.xlabel('sd_values')\n",
    "plt.title('밝기 상위 1프로의 표준편차 분포')\n",
    "plt.show()"
   ]
  },
  {
   "cell_type": "code",
   "execution_count": null,
   "metadata": {},
   "outputs": [],
   "source": [
    "# Boxplot 그리기\n",
    "plt.boxplot([list(result_dict.values()), list(sd.values())])\n",
    "\n",
    "# X축 설정\n",
    "plt.xticks([1, 2],['밝은 이미지의 표준편차 분포', '전체 이미지의 표준편차 분포'])\n",
    "\n",
    "# Y축 설정\n",
    "plt.ylabel('Value')\n",
    "plt.ylim(0, 100)"
   ]
  }
 ],
 "metadata": {
  "kernelspec": {
   "display_name": "Python 3.9.17 ('tf39')",
   "language": "python",
   "name": "python3"
  },
  "language_info": {
   "name": "python",
   "version": "3.9.17"
  },
  "orig_nbformat": 4,
  "vscode": {
   "interpreter": {
    "hash": "32bdad3d37d800a9655be53f0fbc13d289841a4cc4c6d89850f999f51bfac069"
   }
  }
 },
 "nbformat": 4,
 "nbformat_minor": 2
}
