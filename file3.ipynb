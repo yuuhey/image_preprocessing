{
 "cells": [
  {
   "cell_type": "code",
   "execution_count": 1,
   "metadata": {},
   "outputs": [],
   "source": [
    "import cv2\n",
    "import os\n",
    "from matplotlib import pyplot as plt\n",
    "%matplotlib inline\n",
    "import numpy as np\n",
    "plt.rcParams['font.family'] ='Malgun Gothic'\n",
    "plt.rcParams['axes.unicode_minus'] =False\n",
    "from brightness_n_sd import make_dict\n",
    "from func import histo"
   ]
  },
  {
   "cell_type": "code",
   "execution_count": 2,
   "metadata": {},
   "outputs": [],
   "source": [
    "# 각 이미지의 밝기평균, 표준편차 계산\n",
    "average, sd = make_dict()"
   ]
  },
  {
   "cell_type": "code",
   "execution_count": 6,
   "metadata": {},
   "outputs": [],
   "source": [
    "# 구간 나누기\n",
    "# (0,255) 몇 구간으로 나눌지 \n",
    "N = 8        #4, 8, 32, ..\n",
    "\n",
    "filtered_dark = {key: value for key, value in dict(average).items() if value <= 256/N}\n",
    "filtered_bright = {key: value for key, value in dict(average).items() if value >= 256-256/N}"
   ]
  },
  {
   "cell_type": "code",
   "execution_count": 7,
   "metadata": {},
   "outputs": [
    {
     "name": "stdout",
     "output_type": "stream",
     "text": [
      "어두운 이미지 개수 : 16\n",
      "밝은 이미지 개수 : 6\n"
     ]
    }
   ],
   "source": [
    "# N개로 나눈 구간에서 1번째 구간(어두운 이미지)), N번째 구간(밝은 이미지)에 속하는 개수\n",
    "print(\"어두운 이미지 개수 :\", len(filtered_dark))\n",
    "print(\"밝은 이미지 개수 :\",len(filtered_bright))"
   ]
  },
  {
   "cell_type": "code",
   "execution_count": 8,
   "metadata": {},
   "outputs": [
    {
     "data": {
      "text/plain": [
       "{'val2017/000000051610.jpg': 225.1290837236534,\n",
       " 'val2017/000000289229.jpg': 225.37228913443832,\n",
       " 'val2017/000000144114.jpg': 226.65629027777777,\n",
       " 'val2017/000000492968.jpg': 227.33791666666667,\n",
       " 'val2017/000000435206.jpg': 235.5419337919594,\n",
       " 'val2017/000000085665.jpg': 240.90055274209487}"
      ]
     },
     "execution_count": 8,
     "metadata": {},
     "output_type": "execute_result"
    }
   ],
   "source": [
    "filtered_bright"
   ]
  },
  {
   "cell_type": "code",
   "execution_count": 9,
   "metadata": {},
   "outputs": [
    {
     "ename": "NameError",
     "evalue": "name 'sd' is not defined",
     "output_type": "error",
     "traceback": [
      "\u001b[1;31m---------------------------------------------------------------------------\u001b[0m",
      "\u001b[1;31mNameError\u001b[0m                                 Traceback (most recent call last)",
      "Cell \u001b[1;32mIn[9], line 2\u001b[0m\n\u001b[0;32m      1\u001b[0m \u001b[39mfor\u001b[39;00m item \u001b[39min\u001b[39;00m filtered_bright:\n\u001b[1;32m----> 2\u001b[0m     histo(item)\n",
      "File \u001b[1;32mc:\\Users\\qtly_u\\Desktop\\image_processing\\func.py:13\u001b[0m, in \u001b[0;36mhisto\u001b[1;34m(image_path)\u001b[0m\n\u001b[0;32m     10\u001b[0m \u001b[39mglobal\u001b[39;00m average\n\u001b[0;32m     12\u001b[0m \u001b[39mif\u001b[39;00m img \u001b[39mis\u001b[39;00m \u001b[39mnot\u001b[39;00m \u001b[39mNone\u001b[39;00m:\n\u001b[1;32m---> 13\u001b[0m     standard_deviation \u001b[39m=\u001b[39m \u001b[39mround\u001b[39m(\u001b[39mdict\u001b[39m(sd)[image_path],\u001b[39m3\u001b[39m)\n\u001b[0;32m     14\u001b[0m     avg \u001b[39m=\u001b[39m \u001b[39mround\u001b[39m(\u001b[39mdict\u001b[39m(average)[image_path],\u001b[39m3\u001b[39m)\n\u001b[0;32m     15\u001b[0m     txt \u001b[39m=\u001b[39m \u001b[39m\"\u001b[39m\u001b[39maverage : \u001b[39m\u001b[39m\"\u001b[39m\u001b[39m+\u001b[39m\u001b[39mstr\u001b[39m(avg)\u001b[39m+\u001b[39m\u001b[39m\"\u001b[39m\u001b[39m sd : \u001b[39m\u001b[39m\"\u001b[39m\u001b[39m+\u001b[39m\u001b[39mstr\u001b[39m(standard_deviation)\n",
      "\u001b[1;31mNameError\u001b[0m: name 'sd' is not defined"
     ]
    }
   ],
   "source": [
    "for item in filtered_bright:\n",
    "    histo(item)"
   ]
  },
  {
   "cell_type": "code",
   "execution_count": null,
   "metadata": {},
   "outputs": [],
   "source": []
  }
 ],
 "metadata": {
  "kernelspec": {
   "display_name": "Python 3.9.17 ('tf39')",
   "language": "python",
   "name": "python3"
  },
  "language_info": {
   "codemirror_mode": {
    "name": "ipython",
    "version": 3
   },
   "file_extension": ".py",
   "mimetype": "text/x-python",
   "name": "python",
   "nbconvert_exporter": "python",
   "pygments_lexer": "ipython3",
   "version": "3.9.17"
  },
  "orig_nbformat": 4,
  "vscode": {
   "interpreter": {
    "hash": "32bdad3d37d800a9655be53f0fbc13d289841a4cc4c6d89850f999f51bfac069"
   }
  }
 },
 "nbformat": 4,
 "nbformat_minor": 2
}
