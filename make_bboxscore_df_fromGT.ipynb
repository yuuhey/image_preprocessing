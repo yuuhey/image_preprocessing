{
 "cells": [
  {
   "cell_type": "code",
   "execution_count": 379,
   "metadata": {},
   "outputs": [],
   "source": [
    "import os\n",
    "import cv2\n",
    "import pandas as pd\n",
    "from matplotlib import pyplot as plt\n",
    "%matplotlib inline\n",
    "import numpy as np\n",
    "plt.rcParams['font.family'] ='Malgun Gothic'\n",
    "plt.rcParams['axes.unicode_minus'] =False\n",
    "from func import *\n",
    "import json"
   ]
  },
  {
   "cell_type": "markdown",
   "metadata": {},
   "source": [
    "### 1. annotation 가져오기"
   ]
  },
  {
   "cell_type": "code",
   "execution_count": 380,
   "metadata": {},
   "outputs": [],
   "source": [
    "# JSON 파일 경로\n",
    "json_file_path = 'person_keypoints_val2017.json'\n",
    "\n",
    "# JSON 파일 읽기\n",
    "with open(json_file_path, 'r') as f:\n",
    "    data = json.load(f)"
   ]
  },
  {
   "cell_type": "code",
   "execution_count": 381,
   "metadata": {},
   "outputs": [
    {
     "data": {
      "text/plain": [
       "dict_keys(['info', 'licenses', 'images', 'annotations', 'categories'])"
      ]
     },
     "execution_count": 381,
     "metadata": {},
     "output_type": "execute_result"
    }
   ],
   "source": [
    "data.keys()"
   ]
  },
  {
   "cell_type": "code",
   "execution_count": 382,
   "metadata": {},
   "outputs": [
    {
     "data": {
      "text/plain": [
       "dict_keys(['segmentation', 'num_keypoints', 'area', 'iscrowd', 'keypoints', 'image_id', 'bbox', 'category_id', 'id'])"
      ]
     },
     "execution_count": 382,
     "metadata": {},
     "output_type": "execute_result"
    }
   ],
   "source": [
    "data['annotations'][0].keys()"
   ]
  },
  {
   "cell_type": "code",
   "execution_count": 383,
   "metadata": {},
   "outputs": [],
   "source": [
    "image_id = []\n",
    "bbox = []\n",
    "\n",
    "for item in data['annotations']:\n",
    "    image_id.append(item['image_id'])\n",
    "    bbox.append(item['bbox'])"
   ]
  },
  {
   "cell_type": "code",
   "execution_count": 384,
   "metadata": {},
   "outputs": [
    {
     "data": {
      "text/html": [
       "<div>\n",
       "<style scoped>\n",
       "    .dataframe tbody tr th:only-of-type {\n",
       "        vertical-align: middle;\n",
       "    }\n",
       "\n",
       "    .dataframe tbody tr th {\n",
       "        vertical-align: top;\n",
       "    }\n",
       "\n",
       "    .dataframe thead th {\n",
       "        text-align: right;\n",
       "    }\n",
       "</style>\n",
       "<table border=\"1\" class=\"dataframe\">\n",
       "  <thead>\n",
       "    <tr style=\"text-align: right;\">\n",
       "      <th></th>\n",
       "      <th>image_id</th>\n",
       "      <th>bbox</th>\n",
       "    </tr>\n",
       "  </thead>\n",
       "  <tbody>\n",
       "    <tr>\n",
       "      <th>0</th>\n",
       "      <td>425226</td>\n",
       "      <td>[73.35, 206.02, 300.58, 372.5]</td>\n",
       "    </tr>\n",
       "    <tr>\n",
       "      <th>1</th>\n",
       "      <td>440475</td>\n",
       "      <td>[491.91, 183.51, 34.85, 73.4]</td>\n",
       "    </tr>\n",
       "    <tr>\n",
       "      <th>2</th>\n",
       "      <td>266400</td>\n",
       "      <td>[36.32, 0.59, 38.56, 53.86]</td>\n",
       "    </tr>\n",
       "    <tr>\n",
       "      <th>3</th>\n",
       "      <td>69213</td>\n",
       "      <td>[276.35, 9.6, 244.69, 400.13]</td>\n",
       "    </tr>\n",
       "    <tr>\n",
       "      <th>4</th>\n",
       "      <td>555050</td>\n",
       "      <td>[97.1, 185.73, 28.66, 27.72]</td>\n",
       "    </tr>\n",
       "    <tr>\n",
       "      <th>...</th>\n",
       "      <td>...</td>\n",
       "      <td>...</td>\n",
       "    </tr>\n",
       "    <tr>\n",
       "      <th>10999</th>\n",
       "      <td>259690</td>\n",
       "      <td>[27, 98, 225, 114]</td>\n",
       "    </tr>\n",
       "    <tr>\n",
       "      <th>11000</th>\n",
       "      <td>145020</td>\n",
       "      <td>[27, 201, 209, 68]</td>\n",
       "    </tr>\n",
       "    <tr>\n",
       "      <th>11001</th>\n",
       "      <td>562818</td>\n",
       "      <td>[353, 229, 180, 39]</td>\n",
       "    </tr>\n",
       "    <tr>\n",
       "      <th>11002</th>\n",
       "      <td>439994</td>\n",
       "      <td>[0, 0, 427, 458]</td>\n",
       "    </tr>\n",
       "    <tr>\n",
       "      <th>11003</th>\n",
       "      <td>250282</td>\n",
       "      <td>[0, 34, 639, 388]</td>\n",
       "    </tr>\n",
       "  </tbody>\n",
       "</table>\n",
       "<p>11004 rows × 2 columns</p>\n",
       "</div>"
      ],
      "text/plain": [
       "       image_id                            bbox\n",
       "0        425226  [73.35, 206.02, 300.58, 372.5]\n",
       "1        440475   [491.91, 183.51, 34.85, 73.4]\n",
       "2        266400     [36.32, 0.59, 38.56, 53.86]\n",
       "3         69213   [276.35, 9.6, 244.69, 400.13]\n",
       "4        555050    [97.1, 185.73, 28.66, 27.72]\n",
       "...         ...                             ...\n",
       "10999    259690              [27, 98, 225, 114]\n",
       "11000    145020              [27, 201, 209, 68]\n",
       "11001    562818             [353, 229, 180, 39]\n",
       "11002    439994                [0, 0, 427, 458]\n",
       "11003    250282               [0, 34, 639, 388]\n",
       "\n",
       "[11004 rows x 2 columns]"
      ]
     },
     "execution_count": 384,
     "metadata": {},
     "output_type": "execute_result"
    }
   ],
   "source": [
    "gt_df = pd.DataFrame({'image_id':image_id, 'bbox':bbox})\n",
    "gt_df"
   ]
  },
  {
   "cell_type": "code",
   "execution_count": 385,
   "metadata": {},
   "outputs": [],
   "source": [
    "gt_df[\"width\"] = gt_df[\"bbox\"].apply(lambda bbox: bbox[2])\n",
    "gt_df[\"height\"] = gt_df[\"bbox\"].apply(lambda bbox: bbox[3])\n",
    "gt_df[\"size\"] = gt_df[\"width\"]*gt_df[\"height\"]"
   ]
  },
  {
   "cell_type": "code",
   "execution_count": 386,
   "metadata": {},
   "outputs": [
    {
     "data": {
      "text/html": [
       "<div>\n",
       "<style scoped>\n",
       "    .dataframe tbody tr th:only-of-type {\n",
       "        vertical-align: middle;\n",
       "    }\n",
       "\n",
       "    .dataframe tbody tr th {\n",
       "        vertical-align: top;\n",
       "    }\n",
       "\n",
       "    .dataframe thead th {\n",
       "        text-align: right;\n",
       "    }\n",
       "</style>\n",
       "<table border=\"1\" class=\"dataframe\">\n",
       "  <thead>\n",
       "    <tr style=\"text-align: right;\">\n",
       "      <th></th>\n",
       "      <th>image_id</th>\n",
       "      <th>bbox</th>\n",
       "      <th>width</th>\n",
       "      <th>height</th>\n",
       "      <th>size</th>\n",
       "    </tr>\n",
       "  </thead>\n",
       "  <tbody>\n",
       "    <tr>\n",
       "      <th>0</th>\n",
       "      <td>425226</td>\n",
       "      <td>[73.35, 206.02, 300.58, 372.5]</td>\n",
       "      <td>300.58</td>\n",
       "      <td>372.50</td>\n",
       "      <td>111966.0500</td>\n",
       "    </tr>\n",
       "    <tr>\n",
       "      <th>1</th>\n",
       "      <td>440475</td>\n",
       "      <td>[491.91, 183.51, 34.85, 73.4]</td>\n",
       "      <td>34.85</td>\n",
       "      <td>73.40</td>\n",
       "      <td>2557.9900</td>\n",
       "    </tr>\n",
       "    <tr>\n",
       "      <th>2</th>\n",
       "      <td>266400</td>\n",
       "      <td>[36.32, 0.59, 38.56, 53.86]</td>\n",
       "      <td>38.56</td>\n",
       "      <td>53.86</td>\n",
       "      <td>2076.8416</td>\n",
       "    </tr>\n",
       "    <tr>\n",
       "      <th>3</th>\n",
       "      <td>69213</td>\n",
       "      <td>[276.35, 9.6, 244.69, 400.13]</td>\n",
       "      <td>244.69</td>\n",
       "      <td>400.13</td>\n",
       "      <td>97907.8097</td>\n",
       "    </tr>\n",
       "    <tr>\n",
       "      <th>4</th>\n",
       "      <td>555050</td>\n",
       "      <td>[97.1, 185.73, 28.66, 27.72]</td>\n",
       "      <td>28.66</td>\n",
       "      <td>27.72</td>\n",
       "      <td>794.4552</td>\n",
       "    </tr>\n",
       "    <tr>\n",
       "      <th>...</th>\n",
       "      <td>...</td>\n",
       "      <td>...</td>\n",
       "      <td>...</td>\n",
       "      <td>...</td>\n",
       "      <td>...</td>\n",
       "    </tr>\n",
       "    <tr>\n",
       "      <th>10999</th>\n",
       "      <td>259690</td>\n",
       "      <td>[27, 98, 225, 114]</td>\n",
       "      <td>225.00</td>\n",
       "      <td>114.00</td>\n",
       "      <td>25650.0000</td>\n",
       "    </tr>\n",
       "    <tr>\n",
       "      <th>11000</th>\n",
       "      <td>145020</td>\n",
       "      <td>[27, 201, 209, 68]</td>\n",
       "      <td>209.00</td>\n",
       "      <td>68.00</td>\n",
       "      <td>14212.0000</td>\n",
       "    </tr>\n",
       "    <tr>\n",
       "      <th>11001</th>\n",
       "      <td>562818</td>\n",
       "      <td>[353, 229, 180, 39]</td>\n",
       "      <td>180.00</td>\n",
       "      <td>39.00</td>\n",
       "      <td>7020.0000</td>\n",
       "    </tr>\n",
       "    <tr>\n",
       "      <th>11002</th>\n",
       "      <td>439994</td>\n",
       "      <td>[0, 0, 427, 458]</td>\n",
       "      <td>427.00</td>\n",
       "      <td>458.00</td>\n",
       "      <td>195566.0000</td>\n",
       "    </tr>\n",
       "    <tr>\n",
       "      <th>11003</th>\n",
       "      <td>250282</td>\n",
       "      <td>[0, 34, 639, 388]</td>\n",
       "      <td>639.00</td>\n",
       "      <td>388.00</td>\n",
       "      <td>247932.0000</td>\n",
       "    </tr>\n",
       "  </tbody>\n",
       "</table>\n",
       "<p>11004 rows × 5 columns</p>\n",
       "</div>"
      ],
      "text/plain": [
       "       image_id                            bbox   width  height         size\n",
       "0        425226  [73.35, 206.02, 300.58, 372.5]  300.58  372.50  111966.0500\n",
       "1        440475   [491.91, 183.51, 34.85, 73.4]   34.85   73.40    2557.9900\n",
       "2        266400     [36.32, 0.59, 38.56, 53.86]   38.56   53.86    2076.8416\n",
       "3         69213   [276.35, 9.6, 244.69, 400.13]  244.69  400.13   97907.8097\n",
       "4        555050    [97.1, 185.73, 28.66, 27.72]   28.66   27.72     794.4552\n",
       "...         ...                             ...     ...     ...          ...\n",
       "10999    259690              [27, 98, 225, 114]  225.00  114.00   25650.0000\n",
       "11000    145020              [27, 201, 209, 68]  209.00   68.00   14212.0000\n",
       "11001    562818             [353, 229, 180, 39]  180.00   39.00    7020.0000\n",
       "11002    439994                [0, 0, 427, 458]  427.00  458.00  195566.0000\n",
       "11003    250282               [0, 34, 639, 388]  639.00  388.00  247932.0000\n",
       "\n",
       "[11004 rows x 5 columns]"
      ]
     },
     "execution_count": 386,
     "metadata": {},
     "output_type": "execute_result"
    }
   ],
   "source": [
    "gt_df"
   ]
  },
  {
   "cell_type": "markdown",
   "metadata": {},
   "source": [
    "### 2. model result에서 score 가져오기"
   ]
  },
  {
   "cell_type": "code",
   "execution_count": 387,
   "metadata": {},
   "outputs": [],
   "source": [
    "# JSON 파일 경로\n",
    "json_file_path = 'result_keypoints.json'\n",
    "\n",
    "# JSON 파일 읽기\n",
    "with open(json_file_path, 'r') as f:\n",
    "    result = json.load(f)"
   ]
  },
  {
   "cell_type": "code",
   "execution_count": 388,
   "metadata": {},
   "outputs": [
    {
     "data": {
      "text/plain": [
       "dict_keys(['category_id', 'center', 'image_id', 'keypoints', 'scale', 'score'])"
      ]
     },
     "execution_count": 388,
     "metadata": {},
     "output_type": "execute_result"
    }
   ],
   "source": [
    "result[0].keys()"
   ]
  },
  {
   "cell_type": "code",
   "execution_count": 389,
   "metadata": {},
   "outputs": [
    {
     "data": {
      "text/plain": [
       "6334"
      ]
     },
     "execution_count": 389,
     "metadata": {},
     "output_type": "execute_result"
    }
   ],
   "source": [
    "len(result)"
   ]
  },
  {
   "cell_type": "code",
   "execution_count": 390,
   "metadata": {},
   "outputs": [],
   "source": [
    "center = []\n",
    "image_id = []\n",
    "scale = []\n",
    "score = []\n",
    "\n",
    "for item in result:\n",
    "    center.append(item['center'])\n",
    "    image_id.append(item['image_id'])\n",
    "    scale.append(item['scale'])\n",
    "    score.append(item['score'])"
   ]
  },
  {
   "cell_type": "code",
   "execution_count": 391,
   "metadata": {},
   "outputs": [
    {
     "data": {
      "text/html": [
       "<div>\n",
       "<style scoped>\n",
       "    .dataframe tbody tr th:only-of-type {\n",
       "        vertical-align: middle;\n",
       "    }\n",
       "\n",
       "    .dataframe tbody tr th {\n",
       "        vertical-align: top;\n",
       "    }\n",
       "\n",
       "    .dataframe thead th {\n",
       "        text-align: right;\n",
       "    }\n",
       "</style>\n",
       "<table border=\"1\" class=\"dataframe\">\n",
       "  <thead>\n",
       "    <tr style=\"text-align: right;\">\n",
       "      <th></th>\n",
       "      <th>image_id</th>\n",
       "      <th>center</th>\n",
       "      <th>scale</th>\n",
       "      <th>score</th>\n",
       "    </tr>\n",
       "  </thead>\n",
       "  <tbody>\n",
       "    <tr>\n",
       "      <th>0</th>\n",
       "      <td>397133</td>\n",
       "      <td>[442.864990234375, 208.22999572753906]</td>\n",
       "      <td>[1.2966562509536743, 1.7288750410079956]</td>\n",
       "      <td>0.856345</td>\n",
       "    </tr>\n",
       "    <tr>\n",
       "      <th>1</th>\n",
       "      <td>397133</td>\n",
       "      <td>[30.579999923706055, 280.69500732421875]</td>\n",
       "      <td>[0.38224998116493225, 0.5096666812896729]</td>\n",
       "      <td>0.397612</td>\n",
       "    </tr>\n",
       "    <tr>\n",
       "      <th>2</th>\n",
       "      <td>252219</td>\n",
       "      <td>[361.3999938964844, 272.68499755859375]</td>\n",
       "      <td>[0.919921875, 1.2265625]</td>\n",
       "      <td>0.895720</td>\n",
       "    </tr>\n",
       "    <tr>\n",
       "      <th>3</th>\n",
       "      <td>252219</td>\n",
       "      <td>[70.26000213623047, 279.7850036621094]</td>\n",
       "      <td>[1.056796908378601, 1.409062385559082]</td>\n",
       "      <td>0.895242</td>\n",
       "    </tr>\n",
       "    <tr>\n",
       "      <th>4</th>\n",
       "      <td>252219</td>\n",
       "      <td>[571.77001953125, 278.6499938964844]</td>\n",
       "      <td>[1.0066875219345093, 1.3422499895095825]</td>\n",
       "      <td>0.829179</td>\n",
       "    </tr>\n",
       "    <tr>\n",
       "      <th>...</th>\n",
       "      <td>...</td>\n",
       "      <td>...</td>\n",
       "      <td>...</td>\n",
       "      <td>...</td>\n",
       "    </tr>\n",
       "    <tr>\n",
       "      <th>6329</th>\n",
       "      <td>15335</td>\n",
       "      <td>[286.7699890136719, 99.50499725341797]</td>\n",
       "      <td>[0.6165000200271606, 0.8219999670982361]</td>\n",
       "      <td>0.508098</td>\n",
       "    </tr>\n",
       "    <tr>\n",
       "      <th>6330</th>\n",
       "      <td>15335</td>\n",
       "      <td>[533.0349731445312, 99.5199966430664]</td>\n",
       "      <td>[0.601312518119812, 0.8017499446868896]</td>\n",
       "      <td>0.415471</td>\n",
       "    </tr>\n",
       "    <tr>\n",
       "      <th>6331</th>\n",
       "      <td>15335</td>\n",
       "      <td>[426.94000244140625, 109.0199966430664]</td>\n",
       "      <td>[1.0413750410079956, 1.3884999752044678]</td>\n",
       "      <td>0.396422</td>\n",
       "    </tr>\n",
       "    <tr>\n",
       "      <th>6332</th>\n",
       "      <td>15335</td>\n",
       "      <td>[198.88499450683594, 108.5250015258789]</td>\n",
       "      <td>[0.48118752241134644, 0.6415833234786987]</td>\n",
       "      <td>0.294983</td>\n",
       "    </tr>\n",
       "    <tr>\n",
       "      <th>6333</th>\n",
       "      <td>15335</td>\n",
       "      <td>[578.4849853515625, 91.56999969482422]</td>\n",
       "      <td>[0.6596249938011169, 0.8794999718666077]</td>\n",
       "      <td>0.282995</td>\n",
       "    </tr>\n",
       "  </tbody>\n",
       "</table>\n",
       "<p>6334 rows × 4 columns</p>\n",
       "</div>"
      ],
      "text/plain": [
       "      image_id                                    center  \\\n",
       "0       397133    [442.864990234375, 208.22999572753906]   \n",
       "1       397133  [30.579999923706055, 280.69500732421875]   \n",
       "2       252219   [361.3999938964844, 272.68499755859375]   \n",
       "3       252219    [70.26000213623047, 279.7850036621094]   \n",
       "4       252219      [571.77001953125, 278.6499938964844]   \n",
       "...        ...                                       ...   \n",
       "6329     15335    [286.7699890136719, 99.50499725341797]   \n",
       "6330     15335     [533.0349731445312, 99.5199966430664]   \n",
       "6331     15335   [426.94000244140625, 109.0199966430664]   \n",
       "6332     15335   [198.88499450683594, 108.5250015258789]   \n",
       "6333     15335    [578.4849853515625, 91.56999969482422]   \n",
       "\n",
       "                                          scale     score  \n",
       "0      [1.2966562509536743, 1.7288750410079956]  0.856345  \n",
       "1     [0.38224998116493225, 0.5096666812896729]  0.397612  \n",
       "2                      [0.919921875, 1.2265625]  0.895720  \n",
       "3        [1.056796908378601, 1.409062385559082]  0.895242  \n",
       "4      [1.0066875219345093, 1.3422499895095825]  0.829179  \n",
       "...                                         ...       ...  \n",
       "6329   [0.6165000200271606, 0.8219999670982361]  0.508098  \n",
       "6330    [0.601312518119812, 0.8017499446868896]  0.415471  \n",
       "6331   [1.0413750410079956, 1.3884999752044678]  0.396422  \n",
       "6332  [0.48118752241134644, 0.6415833234786987]  0.294983  \n",
       "6333   [0.6596249938011169, 0.8794999718666077]  0.282995  \n",
       "\n",
       "[6334 rows x 4 columns]"
      ]
     },
     "execution_count": 391,
     "metadata": {},
     "output_type": "execute_result"
    }
   ],
   "source": [
    "result_df = pd.DataFrame({'image_id':image_id,'center':center,'scale':scale,'score':score})\n",
    "result_df"
   ]
  },
  {
   "cell_type": "markdown",
   "metadata": {},
   "source": [
    "- image_id -> score 정렬되어있음"
   ]
  },
  {
   "cell_type": "code",
   "execution_count": 392,
   "metadata": {},
   "outputs": [],
   "source": [
    "# # 데이터를 평평한 형태로 변환\n",
    "# flat_data = [(image_id, bbox_data) for image_id, bbox_data_list in result_df.items() for bbox_data in bbox_data_list]\n",
    "\n",
    "# # 데이터프레임으로 변환\n",
    "# result_df = pd.DataFrame(flat_data, columns=['image_id', 'bbox_data'])\n",
    "\n",
    "# # JSON normalization을 통해 nested된 데이터를 펼침\n",
    "# df_normalized = pd.json_normalize(result_df['bbox_data'])\n",
    "\n",
    "# # 기존 'bbox_data' 열 제거 및 새로운 열로 추가\n",
    "# result_df = pd.concat([result_df.drop(['bbox_data'], axis=1), df_normalized], axis=1)\n",
    "\n",
    "# # 결과 확인\n",
    "# print(result_df)"
   ]
  },
  {
   "cell_type": "code",
   "execution_count": 393,
   "metadata": {},
   "outputs": [
    {
     "data": {
      "text/plain": [
       "Index(['image_id', 'center', 'scale', 'score'], dtype='object')"
      ]
     },
     "execution_count": 393,
     "metadata": {},
     "output_type": "execute_result"
    }
   ],
   "source": [
    "result_df.columns"
   ]
  },
  {
   "cell_type": "code",
   "execution_count": 394,
   "metadata": {},
   "outputs": [],
   "source": [
    "# tmp = result_df[['image_id', 'center', 'scale', 'score']]\n",
    "# result_df = tmp.iloc[:,1:]\n",
    "# result_df.columns"
   ]
  },
  {
   "cell_type": "code",
   "execution_count": 395,
   "metadata": {},
   "outputs": [],
   "source": [
    "# bbox에서 kpts 저장되어있는 모델 중간 json 파일\n",
    "# JSON 파일 경로\n",
    "json_file_path = 'GT_result.json'\n",
    "\n",
    "# JSON 파일 읽기\n",
    "with open(json_file_path, 'r') as f:\n",
    "    kpt_result = json.load(f)"
   ]
  },
  {
   "cell_type": "code",
   "execution_count": 396,
   "metadata": {},
   "outputs": [
    {
     "data": {
      "text/plain": [
       "dict_keys(['keypoints', 'center', 'scale', 'area', 'score', 'image_id', 'bbox_id'])"
      ]
     },
     "execution_count": 396,
     "metadata": {},
     "output_type": "execute_result"
    }
   ],
   "source": [
    "kpt_result['397133'][0].keys()"
   ]
  },
  {
   "cell_type": "code",
   "execution_count": 397,
   "metadata": {},
   "outputs": [],
   "source": [
    "# 데이터프레임을 담을 리스트 생성\n",
    "df_list = []\n",
    "\n",
    "# JSON 데이터를 데이터프레임으로 변환\n",
    "for image_id, bbox_list in kpt_result.items():\n",
    "    for bbox_id, bbox_info in enumerate(bbox_list):\n",
    "        # 필요한 정보 추출\n",
    "        bbox_data = {\n",
    "            \"image_id\": int(image_id),\n",
    "            \"bbox_id\": bbox_id,\n",
    "            \"keypoints\": bbox_info[\"keypoints\"][\"__ndarray__\"],\n",
    "            \"center\": bbox_info[\"center\"][\"__ndarray__\"],\n",
    "            \"scale\": bbox_info[\"scale\"][\"__ndarray__\"],\n",
    "            \"area\": bbox_info[\"area\"],\n",
    "            \"score\": bbox_info[\"score\"]\n",
    "        }\n",
    "        df_list.append(bbox_data)\n",
    "\n",
    "# 리스트를 데이터프레임으로 변환\n",
    "kpt_df = pd.DataFrame(df_list)"
   ]
  },
  {
   "cell_type": "code",
   "execution_count": 398,
   "metadata": {},
   "outputs": [
    {
     "name": "stdout",
     "output_type": "stream",
     "text": [
      "Index(['image_id', 'bbox_id', 'keypoints', 'center', 'scale', 'area', 'score'], dtype='object')\n",
      "6352\n"
     ]
    }
   ],
   "source": [
    "print(kpt_df.columns)\n",
    "print(len(kpt_df))"
   ]
  },
  {
   "cell_type": "code",
   "execution_count": 399,
   "metadata": {},
   "outputs": [
    {
     "name": "stdout",
     "output_type": "stream",
     "text": [
      "Index(['image_id', 'bbox_id', 'keypoints', 'center', 'scale', 'area', 'score'], dtype='object')\n",
      "Index(['image_id', 'center', 'scale', 'score'], dtype='object')\n",
      "Index(['image_id', 'bbox', 'width', 'height', 'size'], dtype='object')\n"
     ]
    }
   ],
   "source": [
    "print(kpt_df.columns)\n",
    "print(result_df.columns)\n",
    "print(gt_df.columns)"
   ]
  },
  {
   "cell_type": "code",
   "execution_count": 400,
   "metadata": {},
   "outputs": [
    {
     "data": {
      "text/plain": [
       "0         [442.864990234375, 208.22999572753906]\n",
       "1       [30.579999923706055, 280.69500732421875]\n",
       "2        [361.3999938964844, 272.68499755859375]\n",
       "3         [70.26000213623047, 279.7850036621094]\n",
       "4           [571.77001953125, 278.6499938964844]\n",
       "                          ...                   \n",
       "6329      [286.7699890136719, 99.50499725341797]\n",
       "6330       [533.0349731445312, 99.5199966430664]\n",
       "6331     [426.94000244140625, 109.0199966430664]\n",
       "6332     [198.88499450683594, 108.5250015258789]\n",
       "6333      [578.4849853515625, 91.56999969482422]\n",
       "Name: center, Length: 6334, dtype: object"
      ]
     },
     "execution_count": 400,
     "metadata": {},
     "output_type": "execute_result"
    }
   ],
   "source": [
    "result_df['center']"
   ]
  },
  {
   "cell_type": "code",
   "execution_count": 401,
   "metadata": {},
   "outputs": [
    {
     "data": {
      "text/plain": [
       "0         [442.864990234375, 208.22999572753906]\n",
       "1       [30.579999923706055, 280.69500732421875]\n",
       "2        [361.3999938964844, 272.68499755859375]\n",
       "3         [70.26000213623047, 279.7850036621094]\n",
       "4           [571.77001953125, 278.6499938964844]\n",
       "                          ...                   \n",
       "6347                 [107.06500244140625, 259.5]\n",
       "6348       [533.0349731445312, 99.5199966430664]\n",
       "6349      [578.4849853515625, 91.56999969482422]\n",
       "6350     [426.94000244140625, 109.0199966430664]\n",
       "6351     [198.88499450683594, 108.5250015258789]\n",
       "Name: center, Length: 6352, dtype: object"
      ]
     },
     "execution_count": 401,
     "metadata": {},
     "output_type": "execute_result"
    }
   ],
   "source": [
    "kpt_df['center']"
   ]
  },
  {
   "cell_type": "code",
   "execution_count": 402,
   "metadata": {},
   "outputs": [],
   "source": [
    "# 리스트를 풀어서 각각의 요소를 새로운 열로 만들기\n",
    "kpt_df_expanded = kpt_df['center'].apply(pd.Series).rename(columns=lambda x: f'value_{x}')\n",
    "result_df_expanded = result_df['center'].apply(pd.Series).rename(columns=lambda x: f'value_{x}')"
   ]
  },
  {
   "cell_type": "code",
   "execution_count": 403,
   "metadata": {},
   "outputs": [],
   "source": [
    "# 기존의 key 열은 삭제\n",
    "df1 = pd.concat([kpt_df, kpt_df_expanded], axis=1)\n",
    "df2 = pd.concat([result_df, result_df_expanded], axis=1)\n",
    "\n",
    "# 키를 기준으로 데이터프레임 합치기\n",
    "merged_df = pd.merge(df1, df2, how='inner', on=['value_0', 'value_1'])"
   ]
  },
  {
   "cell_type": "code",
   "execution_count": 404,
   "metadata": {},
   "outputs": [
    {
     "data": {
      "text/html": [
       "<div>\n",
       "<style scoped>\n",
       "    .dataframe tbody tr th:only-of-type {\n",
       "        vertical-align: middle;\n",
       "    }\n",
       "\n",
       "    .dataframe tbody tr th {\n",
       "        vertical-align: top;\n",
       "    }\n",
       "\n",
       "    .dataframe thead th {\n",
       "        text-align: right;\n",
       "    }\n",
       "</style>\n",
       "<table border=\"1\" class=\"dataframe\">\n",
       "  <thead>\n",
       "    <tr style=\"text-align: right;\">\n",
       "      <th></th>\n",
       "      <th>image_id_x</th>\n",
       "      <th>bbox_id</th>\n",
       "      <th>keypoints</th>\n",
       "      <th>center_x</th>\n",
       "      <th>scale_x</th>\n",
       "      <th>area</th>\n",
       "      <th>score_x</th>\n",
       "      <th>value_0</th>\n",
       "      <th>value_1</th>\n",
       "      <th>image_id_y</th>\n",
       "      <th>center_y</th>\n",
       "      <th>scale_y</th>\n",
       "      <th>score_y</th>\n",
       "    </tr>\n",
       "  </thead>\n",
       "  <tbody>\n",
       "    <tr>\n",
       "      <th>0</th>\n",
       "      <td>397133</td>\n",
       "      <td>0</td>\n",
       "      <td>[[430.8645324707031, 95.42893981933594, 0.9389...</td>\n",
       "      <td>[442.864990234375, 208.22999572753906]</td>\n",
       "      <td>[1.2966562509536743, 1.7288750410079956]</td>\n",
       "      <td>89670.257812</td>\n",
       "      <td>1.0</td>\n",
       "      <td>442.864990</td>\n",
       "      <td>208.229996</td>\n",
       "      <td>397133</td>\n",
       "      <td>[442.864990234375, 208.22999572753906]</td>\n",
       "      <td>[1.2966562509536743, 1.7288750410079956]</td>\n",
       "      <td>0.856345</td>\n",
       "    </tr>\n",
       "    <tr>\n",
       "      <th>1</th>\n",
       "      <td>397133</td>\n",
       "      <td>1</td>\n",
       "      <td>[[52.14830780029297, 284.97412109375, 0.023037...</td>\n",
       "      <td>[30.579999923706055, 280.69500732421875]</td>\n",
       "      <td>[0.38224998116493225, 0.5096666812896729]</td>\n",
       "      <td>7792.803223</td>\n",
       "      <td>1.0</td>\n",
       "      <td>30.580000</td>\n",
       "      <td>280.695007</td>\n",
       "      <td>397133</td>\n",
       "      <td>[30.579999923706055, 280.69500732421875]</td>\n",
       "      <td>[0.38224998116493225, 0.5096666812896729]</td>\n",
       "      <td>0.397612</td>\n",
       "    </tr>\n",
       "    <tr>\n",
       "      <th>2</th>\n",
       "      <td>252219</td>\n",
       "      <td>0</td>\n",
       "      <td>[[354.296630859375, 198.06585693359375, 0.9260...</td>\n",
       "      <td>[361.3999938964844, 272.68499755859375]</td>\n",
       "      <td>[0.919921875, 1.2265625]</td>\n",
       "      <td>45133.667969</td>\n",
       "      <td>1.0</td>\n",
       "      <td>361.399994</td>\n",
       "      <td>272.684998</td>\n",
       "      <td>252219</td>\n",
       "      <td>[361.3999938964844, 272.68499755859375]</td>\n",
       "      <td>[0.919921875, 1.2265625]</td>\n",
       "      <td>0.895720</td>\n",
       "    </tr>\n",
       "    <tr>\n",
       "      <th>3</th>\n",
       "      <td>252219</td>\n",
       "      <td>1</td>\n",
       "      <td>[[100.3197021484375, 189.2662811279297, 0.9693...</td>\n",
       "      <td>[70.26000213623047, 279.7850036621094]</td>\n",
       "      <td>[1.056796908378601, 1.409062385559082]</td>\n",
       "      <td>59563.707031</td>\n",
       "      <td>1.0</td>\n",
       "      <td>70.260002</td>\n",
       "      <td>279.785004</td>\n",
       "      <td>252219</td>\n",
       "      <td>[70.26000213623047, 279.7850036621094]</td>\n",
       "      <td>[1.056796908378601, 1.409062385559082]</td>\n",
       "      <td>0.895242</td>\n",
       "    </tr>\n",
       "    <tr>\n",
       "      <th>4</th>\n",
       "      <td>252219</td>\n",
       "      <td>2</td>\n",
       "      <td>[[537.075927734375, 193.65164184570312, 0.9272...</td>\n",
       "      <td>[571.77001953125, 278.6499938964844]</td>\n",
       "      <td>[1.0066875219345093, 1.3422499895095825]</td>\n",
       "      <td>54049.058594</td>\n",
       "      <td>1.0</td>\n",
       "      <td>571.770020</td>\n",
       "      <td>278.649994</td>\n",
       "      <td>252219</td>\n",
       "      <td>[571.77001953125, 278.6499938964844]</td>\n",
       "      <td>[1.0066875219345093, 1.3422499895095825]</td>\n",
       "      <td>0.829179</td>\n",
       "    </tr>\n",
       "    <tr>\n",
       "      <th>...</th>\n",
       "      <td>...</td>\n",
       "      <td>...</td>\n",
       "      <td>...</td>\n",
       "      <td>...</td>\n",
       "      <td>...</td>\n",
       "      <td>...</td>\n",
       "      <td>...</td>\n",
       "      <td>...</td>\n",
       "      <td>...</td>\n",
       "      <td>...</td>\n",
       "      <td>...</td>\n",
       "      <td>...</td>\n",
       "      <td>...</td>\n",
       "    </tr>\n",
       "    <tr>\n",
       "      <th>6329</th>\n",
       "      <td>15335</td>\n",
       "      <td>3</td>\n",
       "      <td>[[83.04756164550781, 175.28688049316406, 0.925...</td>\n",
       "      <td>[107.06500244140625, 259.5]</td>\n",
       "      <td>[1.7588437795639038, 2.3451249599456787]</td>\n",
       "      <td>164988.343750</td>\n",
       "      <td>1.0</td>\n",
       "      <td>107.065002</td>\n",
       "      <td>259.500000</td>\n",
       "      <td>15335</td>\n",
       "      <td>[107.06500244140625, 259.5]</td>\n",
       "      <td>[1.7588437795639038, 2.3451249599456787]</td>\n",
       "      <td>0.714482</td>\n",
       "    </tr>\n",
       "    <tr>\n",
       "      <th>6330</th>\n",
       "      <td>15335</td>\n",
       "      <td>4</td>\n",
       "      <td>[[508.6524963378906, 30.947364807128906, 0.216...</td>\n",
       "      <td>[533.0349731445312, 99.5199966430664]</td>\n",
       "      <td>[0.601312518119812, 0.8017499446868896]</td>\n",
       "      <td>19284.091797</td>\n",
       "      <td>1.0</td>\n",
       "      <td>533.034973</td>\n",
       "      <td>99.519997</td>\n",
       "      <td>15335</td>\n",
       "      <td>[533.0349731445312, 99.5199966430664]</td>\n",
       "      <td>[0.601312518119812, 0.8017499446868896]</td>\n",
       "      <td>0.415471</td>\n",
       "    </tr>\n",
       "    <tr>\n",
       "      <th>6331</th>\n",
       "      <td>15335</td>\n",
       "      <td>5</td>\n",
       "      <td>[[561.7669067382812, 92.91932678222656, 0.1978...</td>\n",
       "      <td>[578.4849853515625, 91.56999969482422]</td>\n",
       "      <td>[0.6596249938011169, 0.8794999718666077]</td>\n",
       "      <td>23205.607422</td>\n",
       "      <td>1.0</td>\n",
       "      <td>578.484985</td>\n",
       "      <td>91.570000</td>\n",
       "      <td>15335</td>\n",
       "      <td>[578.4849853515625, 91.56999969482422]</td>\n",
       "      <td>[0.6596249938011169, 0.8794999718666077]</td>\n",
       "      <td>0.282995</td>\n",
       "    </tr>\n",
       "    <tr>\n",
       "      <th>6332</th>\n",
       "      <td>15335</td>\n",
       "      <td>6</td>\n",
       "      <td>[[408.19903564453125, 93.58609008789062, 0.499...</td>\n",
       "      <td>[426.94000244140625, 109.0199966430664]</td>\n",
       "      <td>[1.0413750410079956, 1.3884999752044678]</td>\n",
       "      <td>57837.964844</td>\n",
       "      <td>1.0</td>\n",
       "      <td>426.940002</td>\n",
       "      <td>109.019997</td>\n",
       "      <td>15335</td>\n",
       "      <td>[426.94000244140625, 109.0199966430664]</td>\n",
       "      <td>[1.0413750410079956, 1.3884999752044678]</td>\n",
       "      <td>0.396422</td>\n",
       "    </tr>\n",
       "    <tr>\n",
       "      <th>6333</th>\n",
       "      <td>15335</td>\n",
       "      <td>7</td>\n",
       "      <td>[[150.113037109375, 94.42748260498047, 0.08892...</td>\n",
       "      <td>[198.88499450683594, 108.5250015258789]</td>\n",
       "      <td>[0.48118752241134644, 0.6415833234786987]</td>\n",
       "      <td>12348.875977</td>\n",
       "      <td>1.0</td>\n",
       "      <td>198.884995</td>\n",
       "      <td>108.525002</td>\n",
       "      <td>15335</td>\n",
       "      <td>[198.88499450683594, 108.5250015258789]</td>\n",
       "      <td>[0.48118752241134644, 0.6415833234786987]</td>\n",
       "      <td>0.294983</td>\n",
       "    </tr>\n",
       "  </tbody>\n",
       "</table>\n",
       "<p>6334 rows × 13 columns</p>\n",
       "</div>"
      ],
      "text/plain": [
       "      image_id_x  bbox_id                                          keypoints  \\\n",
       "0         397133        0  [[430.8645324707031, 95.42893981933594, 0.9389...   \n",
       "1         397133        1  [[52.14830780029297, 284.97412109375, 0.023037...   \n",
       "2         252219        0  [[354.296630859375, 198.06585693359375, 0.9260...   \n",
       "3         252219        1  [[100.3197021484375, 189.2662811279297, 0.9693...   \n",
       "4         252219        2  [[537.075927734375, 193.65164184570312, 0.9272...   \n",
       "...          ...      ...                                                ...   \n",
       "6329       15335        3  [[83.04756164550781, 175.28688049316406, 0.925...   \n",
       "6330       15335        4  [[508.6524963378906, 30.947364807128906, 0.216...   \n",
       "6331       15335        5  [[561.7669067382812, 92.91932678222656, 0.1978...   \n",
       "6332       15335        6  [[408.19903564453125, 93.58609008789062, 0.499...   \n",
       "6333       15335        7  [[150.113037109375, 94.42748260498047, 0.08892...   \n",
       "\n",
       "                                      center_x  \\\n",
       "0       [442.864990234375, 208.22999572753906]   \n",
       "1     [30.579999923706055, 280.69500732421875]   \n",
       "2      [361.3999938964844, 272.68499755859375]   \n",
       "3       [70.26000213623047, 279.7850036621094]   \n",
       "4         [571.77001953125, 278.6499938964844]   \n",
       "...                                        ...   \n",
       "6329               [107.06500244140625, 259.5]   \n",
       "6330     [533.0349731445312, 99.5199966430664]   \n",
       "6331    [578.4849853515625, 91.56999969482422]   \n",
       "6332   [426.94000244140625, 109.0199966430664]   \n",
       "6333   [198.88499450683594, 108.5250015258789]   \n",
       "\n",
       "                                        scale_x           area  score_x  \\\n",
       "0      [1.2966562509536743, 1.7288750410079956]   89670.257812      1.0   \n",
       "1     [0.38224998116493225, 0.5096666812896729]    7792.803223      1.0   \n",
       "2                      [0.919921875, 1.2265625]   45133.667969      1.0   \n",
       "3        [1.056796908378601, 1.409062385559082]   59563.707031      1.0   \n",
       "4      [1.0066875219345093, 1.3422499895095825]   54049.058594      1.0   \n",
       "...                                         ...            ...      ...   \n",
       "6329   [1.7588437795639038, 2.3451249599456787]  164988.343750      1.0   \n",
       "6330    [0.601312518119812, 0.8017499446868896]   19284.091797      1.0   \n",
       "6331   [0.6596249938011169, 0.8794999718666077]   23205.607422      1.0   \n",
       "6332   [1.0413750410079956, 1.3884999752044678]   57837.964844      1.0   \n",
       "6333  [0.48118752241134644, 0.6415833234786987]   12348.875977      1.0   \n",
       "\n",
       "         value_0     value_1  image_id_y  \\\n",
       "0     442.864990  208.229996      397133   \n",
       "1      30.580000  280.695007      397133   \n",
       "2     361.399994  272.684998      252219   \n",
       "3      70.260002  279.785004      252219   \n",
       "4     571.770020  278.649994      252219   \n",
       "...          ...         ...         ...   \n",
       "6329  107.065002  259.500000       15335   \n",
       "6330  533.034973   99.519997       15335   \n",
       "6331  578.484985   91.570000       15335   \n",
       "6332  426.940002  109.019997       15335   \n",
       "6333  198.884995  108.525002       15335   \n",
       "\n",
       "                                      center_y  \\\n",
       "0       [442.864990234375, 208.22999572753906]   \n",
       "1     [30.579999923706055, 280.69500732421875]   \n",
       "2      [361.3999938964844, 272.68499755859375]   \n",
       "3       [70.26000213623047, 279.7850036621094]   \n",
       "4         [571.77001953125, 278.6499938964844]   \n",
       "...                                        ...   \n",
       "6329               [107.06500244140625, 259.5]   \n",
       "6330     [533.0349731445312, 99.5199966430664]   \n",
       "6331    [578.4849853515625, 91.56999969482422]   \n",
       "6332   [426.94000244140625, 109.0199966430664]   \n",
       "6333   [198.88499450683594, 108.5250015258789]   \n",
       "\n",
       "                                        scale_y   score_y  \n",
       "0      [1.2966562509536743, 1.7288750410079956]  0.856345  \n",
       "1     [0.38224998116493225, 0.5096666812896729]  0.397612  \n",
       "2                      [0.919921875, 1.2265625]  0.895720  \n",
       "3        [1.056796908378601, 1.409062385559082]  0.895242  \n",
       "4      [1.0066875219345093, 1.3422499895095825]  0.829179  \n",
       "...                                         ...       ...  \n",
       "6329   [1.7588437795639038, 2.3451249599456787]  0.714482  \n",
       "6330    [0.601312518119812, 0.8017499446868896]  0.415471  \n",
       "6331   [0.6596249938011169, 0.8794999718666077]  0.282995  \n",
       "6332   [1.0413750410079956, 1.3884999752044678]  0.396422  \n",
       "6333  [0.48118752241134644, 0.6415833234786987]  0.294983  \n",
       "\n",
       "[6334 rows x 13 columns]"
      ]
     },
     "execution_count": 404,
     "metadata": {},
     "output_type": "execute_result"
    }
   ],
   "source": [
    "merged_df"
   ]
  },
  {
   "cell_type": "code",
   "execution_count": 405,
   "metadata": {},
   "outputs": [
    {
     "name": "stdout",
     "output_type": "stream",
     "text": [
      "Index(['image_id', 'center', 'scale', 'score'], dtype='object')\n",
      "Index(['image_id', 'bbox_id', 'keypoints', 'center', 'scale', 'area', 'score'], dtype='object')\n"
     ]
    }
   ],
   "source": [
    "print(result_df.columns)\n",
    "print(kpt_df.columns)"
   ]
  },
  {
   "cell_type": "code",
   "execution_count": 406,
   "metadata": {},
   "outputs": [
    {
     "data": {
      "text/plain": [
       "image_id_x                                               397133\n",
       "bbox_id                                                       0\n",
       "keypoints     [[430.8645324707031, 95.42893981933594, 0.9389...\n",
       "center_x                 [442.864990234375, 208.22999572753906]\n",
       "scale_x                [1.2966562509536743, 1.7288750410079956]\n",
       "area                                               89670.257812\n",
       "score_x                                                     1.0\n",
       "value_0                                               442.86499\n",
       "value_1                                              208.229996\n",
       "image_id_y                                               397133\n",
       "center_y                 [442.864990234375, 208.22999572753906]\n",
       "scale_y                [1.2966562509536743, 1.7288750410079956]\n",
       "score_y                                                0.856345\n",
       "Name: 0, dtype: object"
      ]
     },
     "execution_count": 406,
     "metadata": {},
     "output_type": "execute_result"
    }
   ],
   "source": [
    "merged_df.iloc[0]"
   ]
  },
  {
   "cell_type": "markdown",
   "metadata": {},
   "source": [
    "살릴거\n",
    "- image_id_x\n",
    "- bbox_id\n",
    "- center_x\n",
    "- scale_x\n",
    "- score_y : keypoints score"
   ]
  },
  {
   "cell_type": "code",
   "execution_count": 407,
   "metadata": {},
   "outputs": [],
   "source": [
    "merged_df = merged_df[['image_id_x', 'bbox_id','center_x','scale_x','score_y']]"
   ]
  },
  {
   "cell_type": "code",
   "execution_count": 408,
   "metadata": {},
   "outputs": [
    {
     "name": "stdout",
     "output_type": "stream",
     "text": [
      "      image_id_x  bbox_id                                  center_x  \\\n",
      "0            139        0  [438.82501220703125, 226.11500549316406]   \n",
      "1            785        0   [389.6400146484375, 217.57000732421875]   \n",
      "2            872        0    [290.7349853515625, 328.8450012207031]   \n",
      "3            885        2    [616.864990234375, 139.02000427246094]   \n",
      "4            885        0    [346.8550109863281, 293.6000061035156]   \n",
      "...          ...      ...                                       ...   \n",
      "6329      580294        0   [525.0700073242188, 220.07000732421875]   \n",
      "6330      581062        0   [162.58999633789062, 107.5250015258789]   \n",
      "6331      581206        0  [234.26499938964844, 109.66000366210938]   \n",
      "6332      581317        0  [511.06500244140625, 204.46499633789062]   \n",
      "6333      581357        0  [372.20001220703125, 216.56500244140625]   \n",
      "\n",
      "                                       scale_x   score_y  \n",
      "0     [0.6422343850135803, 0.8563125133514404]  0.763357  \n",
      "1     [1.6203750371932983, 2.1605000495910645]  0.902015  \n",
      "2      [2.1391406059265137, 2.852187395095825]  0.664442  \n",
      "3     [1.0616250038146973, 1.4155000448226929]  0.805771  \n",
      "4     [0.9713437557220459, 1.2951250076293945]  0.843057  \n",
      "...                                        ...       ...  \n",
      "6329    [2.034562587738037, 2.712750196456909]  0.383998  \n",
      "6330  [0.5272969007492065, 0.7030624747276306]  0.896881  \n",
      "6331    [2.928312301635742, 3.904416561126709]  0.339190  \n",
      "6332  [1.3925156593322754, 1.8566875457763672]  0.849606  \n",
      "6333    [1.36899995803833, 1.8253333568572998]  0.912779  \n",
      "\n",
      "[6334 rows x 5 columns]\n"
     ]
    }
   ],
   "source": [
    "# 두 개의 열을 기준으로 정렬 (예: Column1을 오름차순으로 정렬하고, 그 후에 Column2를 오름차순으로 정렬)\n",
    "merged_df = merged_df.sort_values(by=['image_id_x', 'score_y'], ascending=[True, True]).reset_index(drop=True)\n",
    "\n",
    "print(merged_df)"
   ]
  },
  {
   "cell_type": "code",
   "execution_count": 409,
   "metadata": {},
   "outputs": [
    {
     "data": {
      "text/html": [
       "<div>\n",
       "<style scoped>\n",
       "    .dataframe tbody tr th:only-of-type {\n",
       "        vertical-align: middle;\n",
       "    }\n",
       "\n",
       "    .dataframe tbody tr th {\n",
       "        vertical-align: top;\n",
       "    }\n",
       "\n",
       "    .dataframe thead th {\n",
       "        text-align: right;\n",
       "    }\n",
       "</style>\n",
       "<table border=\"1\" class=\"dataframe\">\n",
       "  <thead>\n",
       "    <tr style=\"text-align: right;\">\n",
       "      <th></th>\n",
       "      <th>image_id</th>\n",
       "      <th>bbox</th>\n",
       "      <th>width</th>\n",
       "      <th>height</th>\n",
       "      <th>size</th>\n",
       "    </tr>\n",
       "  </thead>\n",
       "  <tbody>\n",
       "    <tr>\n",
       "      <th>0</th>\n",
       "      <td>139</td>\n",
       "      <td>[384.43, 172.21, 15.12, 35.74]</td>\n",
       "      <td>15.12</td>\n",
       "      <td>35.74</td>\n",
       "      <td>540.3888</td>\n",
       "    </tr>\n",
       "    <tr>\n",
       "      <th>1</th>\n",
       "      <td>139</td>\n",
       "      <td>[412.8, 157.61, 53.05, 138.01]</td>\n",
       "      <td>53.05</td>\n",
       "      <td>138.01</td>\n",
       "      <td>7321.4305</td>\n",
       "    </tr>\n",
       "    <tr>\n",
       "      <th>2</th>\n",
       "      <td>785</td>\n",
       "      <td>[280.79, 44.73, 218.7, 346.68]</td>\n",
       "      <td>218.70</td>\n",
       "      <td>346.68</td>\n",
       "      <td>75818.9160</td>\n",
       "    </tr>\n",
       "    <tr>\n",
       "      <th>3</th>\n",
       "      <td>872</td>\n",
       "      <td>[145.26, 100.67, 291.95, 457.35]</td>\n",
       "      <td>291.95</td>\n",
       "      <td>457.35</td>\n",
       "      <td>133523.3325</td>\n",
       "    </tr>\n",
       "    <tr>\n",
       "      <th>4</th>\n",
       "      <td>872</td>\n",
       "      <td>[163.73, 126.42, 265.69, 480.4]</td>\n",
       "      <td>265.69</td>\n",
       "      <td>480.40</td>\n",
       "      <td>127637.4760</td>\n",
       "    </tr>\n",
       "    <tr>\n",
       "      <th>...</th>\n",
       "      <td>...</td>\n",
       "      <td>...</td>\n",
       "      <td>...</td>\n",
       "      <td>...</td>\n",
       "      <td>...</td>\n",
       "    </tr>\n",
       "    <tr>\n",
       "      <th>10999</th>\n",
       "      <td>581357</td>\n",
       "      <td>[578.74, 389.17, 12.86, 25.39]</td>\n",
       "      <td>12.86</td>\n",
       "      <td>25.39</td>\n",
       "      <td>326.5154</td>\n",
       "    </tr>\n",
       "    <tr>\n",
       "      <th>11000</th>\n",
       "      <td>581357</td>\n",
       "      <td>[262.68, 93.29, 220.04, 247.55]</td>\n",
       "      <td>220.04</td>\n",
       "      <td>247.55</td>\n",
       "      <td>54470.9020</td>\n",
       "    </tr>\n",
       "    <tr>\n",
       "      <th>11001</th>\n",
       "      <td>581357</td>\n",
       "      <td>[249.22, 419.65, 13.2, 24.53]</td>\n",
       "      <td>13.20</td>\n",
       "      <td>24.53</td>\n",
       "      <td>323.7960</td>\n",
       "    </tr>\n",
       "    <tr>\n",
       "      <th>11002</th>\n",
       "      <td>581357</td>\n",
       "      <td>[428.92, 400.24, 22.69, 45.38]</td>\n",
       "      <td>22.69</td>\n",
       "      <td>45.38</td>\n",
       "      <td>1029.6722</td>\n",
       "    </tr>\n",
       "    <tr>\n",
       "      <th>11003</th>\n",
       "      <td>581357</td>\n",
       "      <td>[523.6, 404.09, 12.73, 37]</td>\n",
       "      <td>12.73</td>\n",
       "      <td>37.00</td>\n",
       "      <td>471.0100</td>\n",
       "    </tr>\n",
       "  </tbody>\n",
       "</table>\n",
       "<p>11004 rows × 5 columns</p>\n",
       "</div>"
      ],
      "text/plain": [
       "       image_id                              bbox   width  height         size\n",
       "0           139    [384.43, 172.21, 15.12, 35.74]   15.12   35.74     540.3888\n",
       "1           139    [412.8, 157.61, 53.05, 138.01]   53.05  138.01    7321.4305\n",
       "2           785    [280.79, 44.73, 218.7, 346.68]  218.70  346.68   75818.9160\n",
       "3           872  [145.26, 100.67, 291.95, 457.35]  291.95  457.35  133523.3325\n",
       "4           872   [163.73, 126.42, 265.69, 480.4]  265.69  480.40  127637.4760\n",
       "...         ...                               ...     ...     ...          ...\n",
       "10999    581357    [578.74, 389.17, 12.86, 25.39]   12.86   25.39     326.5154\n",
       "11000    581357   [262.68, 93.29, 220.04, 247.55]  220.04  247.55   54470.9020\n",
       "11001    581357     [249.22, 419.65, 13.2, 24.53]   13.20   24.53     323.7960\n",
       "11002    581357    [428.92, 400.24, 22.69, 45.38]   22.69   45.38    1029.6722\n",
       "11003    581357        [523.6, 404.09, 12.73, 37]   12.73   37.00     471.0100\n",
       "\n",
       "[11004 rows x 5 columns]"
      ]
     },
     "execution_count": 409,
     "metadata": {},
     "output_type": "execute_result"
    }
   ],
   "source": [
    "gt_df = gt_df.sort_values(by='image_id', ascending=True).reset_index(drop=True)\n",
    "gt_df"
   ]
  },
  {
   "cell_type": "code",
   "execution_count": 410,
   "metadata": {},
   "outputs": [],
   "source": [
    "merged_df.to_csv(\"merged_df.csv\", index=False)\n",
    "gt_df.to_csv(\"gt_df.csv\", index=False)"
   ]
  }
 ],
 "metadata": {
  "kernelspec": {
   "display_name": "Python 3.9.17 ('tf39')",
   "language": "python",
   "name": "python3"
  },
  "language_info": {
   "codemirror_mode": {
    "name": "ipython",
    "version": 3
   },
   "file_extension": ".py",
   "mimetype": "text/x-python",
   "name": "python",
   "nbconvert_exporter": "python",
   "pygments_lexer": "ipython3",
   "version": "3.9.17"
  },
  "orig_nbformat": 4,
  "vscode": {
   "interpreter": {
    "hash": "32bdad3d37d800a9655be53f0fbc13d289841a4cc4c6d89850f999f51bfac069"
   }
  }
 },
 "nbformat": 4,
 "nbformat_minor": 2
}
