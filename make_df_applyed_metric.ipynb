{
 "cells": [
  {
   "cell_type": "code",
   "execution_count": 2,
   "metadata": {},
   "outputs": [],
   "source": [
    "import os\n",
    "import cv2\n",
    "import pandas as pd\n",
    "from matplotlib import pyplot as plt\n",
    "%matplotlib inline\n",
    "import numpy as np\n",
    "plt.rcParams['font.family'] ='Malgun Gothic'\n",
    "plt.rcParams['axes.unicode_minus'] =False\n",
    "from func import *\n",
    "import ast\n",
    "import json"
   ]
  },
  {
   "cell_type": "code",
   "execution_count": 128,
   "metadata": {},
   "outputs": [],
   "source": [
    "bbox_df = pd.read_csv(\"bbox_df.csv\")"
   ]
  },
  {
   "cell_type": "code",
   "execution_count": 129,
   "metadata": {},
   "outputs": [],
   "source": [
    "bbox_df[\"image_file\"] = bbox_df[\"image_file\"].astype(str).apply(lambda x: x.rjust(12, '0') + \".jpg\")\n",
    "bbox_df['bbox'] = bbox_df['bbox'].apply(ast.literal_eval)"
   ]
  },
  {
   "cell_type": "code",
   "execution_count": 130,
   "metadata": {},
   "outputs": [],
   "source": [
    "bbox_df['image_file'] = str('val2017/')+bbox_df['image_file']"
   ]
  },
  {
   "cell_type": "code",
   "execution_count": null,
   "metadata": {},
   "outputs": [],
   "source": [
    "bbox_df.head()"
   ]
  },
  {
   "cell_type": "code",
   "execution_count": 208,
   "metadata": {},
   "outputs": [],
   "source": [
    "# 엔트로피 계산\n",
    "def calculate_image_entropy_(image):\n",
    "    # image = cv2.imread(image_file_path, cv2.IMREAD_GRAYSCALE)\n",
    "\n",
    "    # 이미지 히스토그램 계산\n",
    "    hist, _ = np.histogram(image.flatten(), bins=256, range=[0,256])\n",
    "\n",
    "    # 확률 계산\n",
    "    prob = hist / np.sum(hist)\n",
    "\n",
    "    # 엔트로피 계산\n",
    "    entropy = -np.sum(prob * np.log2(prob + 1e-10))  # 1e-10은 로그 계산 시 분모가 0이 되는 것을 방지하기 위한 작은 값\n",
    "\n",
    "    return entropy"
   ]
  },
  {
   "cell_type": "code",
   "execution_count": 217,
   "metadata": {},
   "outputs": [],
   "source": [
    "def calculate_laplacian_variance_(image):\n",
    "    # 이미지 읽기 (흑백으로 변환)\n",
    "    # image = cv2.imread(image_path, cv2.IMREAD_GRAYSCALE)\n",
    "\n",
    "    # 라플라시안 필터 적용\n",
    "    laplacian = cv2.Laplacian(image, cv2.CV_64F)\n",
    "\n",
    "    # 분산 계산\n",
    "    variance_of_laplacian = laplacian.var()\n",
    "\n",
    "    return variance_of_laplacian"
   ]
  },
  {
   "cell_type": "code",
   "execution_count": 218,
   "metadata": {},
   "outputs": [],
   "source": [
    "entropy = []\n",
    "laplacian = []\n",
    "\n",
    "for i in bbox_df['bbox_id']:\n",
    "    bbox = bbox_df.loc[i,'bbox']\n",
    "    \n",
    "    # bbox 정보에서 x, y, w, h 추출\n",
    "    x, y, w, h = map(int, bbox)\n",
    "\n",
    "    # 이미지 로드\n",
    "    image_file_path = bbox_df.loc[i,'image_file']\n",
    "    image = cv2.imread(image_file_path, cv2.IMREAD_GRAYSCALE)\n",
    "\n",
    "    # 이미지를 bbox에 맞게 자르기\n",
    "    cropped_image = image[y:y+h, x:x+w]\n",
    "    entropy_value = calculate_image_entropy_(cropped_image)\n",
    "    laplacian_value = calculate_laplacian_variance_(cropped_image)\n",
    "\n",
    "    entropy.append(entropy_value)\n",
    "    laplacian.append(laplacian_value)"
   ]
  },
  {
   "cell_type": "code",
   "execution_count": 219,
   "metadata": {},
   "outputs": [],
   "source": [
    "bbox_df['entropy'] = entropy\n",
    "bbox_df['laplacian'] = laplacian"
   ]
  },
  {
   "cell_type": "code",
   "execution_count": 221,
   "metadata": {},
   "outputs": [
    {
     "data": {
      "text/plain": [
       "Index(['image_file', 'bbox', 'bbox_score', 'bbox_id', 'width', 'height',\n",
       "       'size', 'entropy', 'laplacian'],\n",
       "      dtype='object')"
      ]
     },
     "execution_count": 221,
     "metadata": {},
     "output_type": "execute_result"
    }
   ],
   "source": [
    "bbox_df.columns"
   ]
  },
  {
   "cell_type": "code",
   "execution_count": 224,
   "metadata": {},
   "outputs": [
    {
     "data": {
      "text/html": [
       "<div>\n",
       "<style scoped>\n",
       "    .dataframe tbody tr th:only-of-type {\n",
       "        vertical-align: middle;\n",
       "    }\n",
       "\n",
       "    .dataframe tbody tr th {\n",
       "        vertical-align: top;\n",
       "    }\n",
       "\n",
       "    .dataframe thead th {\n",
       "        text-align: right;\n",
       "    }\n",
       "</style>\n",
       "<table border=\"1\" class=\"dataframe\">\n",
       "  <thead>\n",
       "    <tr style=\"text-align: right;\">\n",
       "      <th></th>\n",
       "      <th>image_file</th>\n",
       "      <th>bbox</th>\n",
       "      <th>bbox_score</th>\n",
       "      <th>bbox_id</th>\n",
       "      <th>width</th>\n",
       "      <th>height</th>\n",
       "      <th>size</th>\n",
       "      <th>entropy</th>\n",
       "      <th>laplacian</th>\n",
       "    </tr>\n",
       "  </thead>\n",
       "  <tbody>\n",
       "    <tr>\n",
       "      <th>0</th>\n",
       "      <td>val2017/000000532481.jpg</td>\n",
       "      <td>[249.8199079291458, 175.21093805640606, 74.004...</td>\n",
       "      <td>0.999274</td>\n",
       "      <td>0</td>\n",
       "      <td>74.004194</td>\n",
       "      <td>55.626326</td>\n",
       "      <td>4116.581369</td>\n",
       "      <td>6.847388</td>\n",
       "      <td>11851.206457</td>\n",
       "    </tr>\n",
       "    <tr>\n",
       "      <th>1</th>\n",
       "      <td>val2017/000000532481.jpg</td>\n",
       "      <td>[284.07836701140275, 370.43747059580454, 13.84...</td>\n",
       "      <td>0.983319</td>\n",
       "      <td>1</td>\n",
       "      <td>13.844298</td>\n",
       "      <td>17.429331</td>\n",
       "      <td>241.296844</td>\n",
       "      <td>6.820085</td>\n",
       "      <td>14014.663049</td>\n",
       "    </tr>\n",
       "    <tr>\n",
       "      <th>2</th>\n",
       "      <td>val2017/000000532481.jpg</td>\n",
       "      <td>[244.05099093550018, 170.61324112294565, 74.56...</td>\n",
       "      <td>0.471152</td>\n",
       "      <td>2</td>\n",
       "      <td>74.563805</td>\n",
       "      <td>73.940382</td>\n",
       "      <td>5513.276229</td>\n",
       "      <td>6.884189</td>\n",
       "      <td>11307.883659</td>\n",
       "    </tr>\n",
       "    <tr>\n",
       "      <th>3</th>\n",
       "      <td>val2017/000000532481.jpg</td>\n",
       "      <td>[285.7852415208732, 370.21400193144893, 10.915...</td>\n",
       "      <td>0.427866</td>\n",
       "      <td>3</td>\n",
       "      <td>10.915034</td>\n",
       "      <td>14.482651</td>\n",
       "      <td>158.078634</td>\n",
       "      <td>6.444467</td>\n",
       "      <td>15793.261786</td>\n",
       "    </tr>\n",
       "    <tr>\n",
       "      <th>4</th>\n",
       "      <td>val2017/000000532481.jpg</td>\n",
       "      <td>[254.66838783379924, 177.22587387050734, 65.52...</td>\n",
       "      <td>0.212189</td>\n",
       "      <td>4</td>\n",
       "      <td>65.529053</td>\n",
       "      <td>58.952817</td>\n",
       "      <td>3863.122282</td>\n",
       "      <td>6.836627</td>\n",
       "      <td>11993.799584</td>\n",
       "    </tr>\n",
       "  </tbody>\n",
       "</table>\n",
       "</div>"
      ],
      "text/plain": [
       "                 image_file  \\\n",
       "0  val2017/000000532481.jpg   \n",
       "1  val2017/000000532481.jpg   \n",
       "2  val2017/000000532481.jpg   \n",
       "3  val2017/000000532481.jpg   \n",
       "4  val2017/000000532481.jpg   \n",
       "\n",
       "                                                bbox  bbox_score  bbox_id  \\\n",
       "0  [249.8199079291458, 175.21093805640606, 74.004...    0.999274        0   \n",
       "1  [284.07836701140275, 370.43747059580454, 13.84...    0.983319        1   \n",
       "2  [244.05099093550018, 170.61324112294565, 74.56...    0.471152        2   \n",
       "3  [285.7852415208732, 370.21400193144893, 10.915...    0.427866        3   \n",
       "4  [254.66838783379924, 177.22587387050734, 65.52...    0.212189        4   \n",
       "\n",
       "       width     height         size   entropy     laplacian  \n",
       "0  74.004194  55.626326  4116.581369  6.847388  11851.206457  \n",
       "1  13.844298  17.429331   241.296844  6.820085  14014.663049  \n",
       "2  74.563805  73.940382  5513.276229  6.884189  11307.883659  \n",
       "3  10.915034  14.482651   158.078634  6.444467  15793.261786  \n",
       "4  65.529053  58.952817  3863.122282  6.836627  11993.799584  "
      ]
     },
     "execution_count": 224,
     "metadata": {},
     "output_type": "execute_result"
    }
   ],
   "source": [
    "bbox_df.head()"
   ]
  },
  {
   "cell_type": "code",
   "execution_count": null,
   "metadata": {},
   "outputs": [],
   "source": [
    "# bbox_df.to_csv(\"bbox_df_with_metric.csv\", index=False)"
   ]
  },
  {
   "cell_type": "code",
   "execution_count": 2,
   "metadata": {},
   "outputs": [
    {
     "name": "stdout",
     "output_type": "stream",
     "text": [
      "개수: 73304\n"
     ]
    }
   ],
   "source": [
    "# JSON 파일 경로\n",
    "json_file_path = 'result_keypoints_small_base.json'\n",
    "\n",
    "# JSON 파일 읽기\n",
    "with open(json_file_path, 'r') as f:\n",
    "    val_data = json.load(f)\n",
    "\n",
    "print(f'개수: {len(val_data)}')"
   ]
  },
  {
   "cell_type": "markdown",
   "metadata": {},
   "source": [
    "### valid detection과 개수 다름 ***"
   ]
  }
 ],
 "metadata": {
  "kernelspec": {
   "display_name": "Python 3.9.17 ('tf39')",
   "language": "python",
   "name": "python3"
  },
  "language_info": {
   "codemirror_mode": {
    "name": "ipython",
    "version": 3
   },
   "file_extension": ".py",
   "mimetype": "text/x-python",
   "name": "python",
   "nbconvert_exporter": "python",
   "pygments_lexer": "ipython3",
   "version": "3.9.17"
  },
  "orig_nbformat": 4,
  "vscode": {
   "interpreter": {
    "hash": "32bdad3d37d800a9655be53f0fbc13d289841a4cc4c6d89850f999f51bfac069"
   }
  }
 },
 "nbformat": 4,
 "nbformat_minor": 2
}
